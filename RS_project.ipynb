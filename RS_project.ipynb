{
  "nbformat": 4,
  "nbformat_minor": 0,
  "metadata": {
    "kernelspec": {
      "display_name": "Python 3",
      "language": "python",
      "name": "python3"
    },
    "colab": {
      "name": "RS project.ipynb",
      "provenance": [],
      "collapsed_sections": [
        "mVNp4cq_sUp8",
        "obIsqC1Ovrar",
        "RRftc1N3w4-J"
      ]
    }
  },
  "cells": [
    {
      "cell_type": "markdown",
      "metadata": {
        "id": "LAtC755npZL6"
      },
      "source": [
        "# Recommender Systems Group Project"
      ]
    },
    {
      "cell_type": "code",
      "metadata": {
        "id": "ZbtuDKoupZMK"
      },
      "source": [
        "data_path =\"data_path\""
      ],
      "execution_count": 1,
      "outputs": []
    },
    {
      "cell_type": "code",
      "metadata": {
        "id": "oJVyGE9zuLso",
        "colab": {
          "base_uri": "https://localhost:8080/"
        },
        "outputId": "4058de8d-bd24-4dce-fe60-9741165ca94c"
      },
      "source": [
        "# !mkdir ~/.kaggle #create the .kaggle folder in your root directory\n",
        "# !echo '{\"username\":\"jdohea\",\"key\":\"xxxxxxxxxxxxxxxxxxxxxxxx\"}' > ~/.kaggle/kaggle.json #write kaggle API credentials to kaggle.json\n",
        "# !chmod 600 ~/.kaggle/kaggle.json  # set permissions\n",
        "# !pip install kaggle #install the kaggle library\n",
        "# !kaggle datasets download -d grouplens/movielens-20m-dataset -p /content/kaggle/\n",
        "# !unzip kaggle/movielens-20m-dataset.zip -d kaggle\n",
        "!pip install lenskit"
      ],
      "execution_count": 2,
      "outputs": [
        {
          "output_type": "stream",
          "name": "stdout",
          "text": [
            "Collecting lenskit\n",
            "  Downloading lenskit-0.13.1-py3-none-any.whl (87 kB)\n",
            "\u001b[?25l\r\u001b[K     |███▊                            | 10 kB 19.5 MB/s eta 0:00:01\r\u001b[K     |███████▌                        | 20 kB 25.3 MB/s eta 0:00:01\r\u001b[K     |███████████▎                    | 30 kB 12.6 MB/s eta 0:00:01\r\u001b[K     |███████████████                 | 40 kB 10.0 MB/s eta 0:00:01\r\u001b[K     |██████████████████▊             | 51 kB 4.4 MB/s eta 0:00:01\r\u001b[K     |██████████████████████▌         | 61 kB 4.7 MB/s eta 0:00:01\r\u001b[K     |██████████████████████████▎     | 71 kB 4.5 MB/s eta 0:00:01\r\u001b[K     |██████████████████████████████  | 81 kB 5.1 MB/s eta 0:00:01\r\u001b[K     |████████████████████████████████| 87 kB 2.7 MB/s \n",
            "\u001b[?25hCollecting csr>=0.3.1\n",
            "  Downloading csr-0.4.0-py3-none-any.whl (23 kB)\n",
            "Requirement already satisfied: scipy>=1.2 in /usr/local/lib/python3.7/dist-packages (from lenskit) (1.4.1)\n",
            "Requirement already satisfied: numba<0.54,>=0.51 in /usr/local/lib/python3.7/dist-packages (from lenskit) (0.51.2)\n",
            "Requirement already satisfied: pyarrow>=0.15 in /usr/local/lib/python3.7/dist-packages (from lenskit) (3.0.0)\n",
            "Collecting binpickle>=0.3.2\n",
            "  Downloading binpickle-0.3.4-py3-none-any.whl (13 kB)\n",
            "Requirement already satisfied: cffi>=1.12.2 in /usr/local/lib/python3.7/dist-packages (from lenskit) (1.15.0)\n",
            "Collecting seedbank>=0.1.0\n",
            "  Downloading seedbank-0.1.1-py3-none-any.whl (7.4 kB)\n",
            "Requirement already satisfied: psutil>=5 in /usr/local/lib/python3.7/dist-packages (from lenskit) (5.4.8)\n",
            "Requirement already satisfied: pandas>=0.24 in /usr/local/lib/python3.7/dist-packages (from lenskit) (1.1.5)\n",
            "Requirement already satisfied: numpy>=1.17 in /usr/local/lib/python3.7/dist-packages (from lenskit) (1.19.5)\n",
            "Requirement already satisfied: msgpack>=1.0 in /usr/local/lib/python3.7/dist-packages (from binpickle>=0.3.2->lenskit) (1.0.2)\n",
            "Collecting pickle5\n",
            "  Downloading pickle5-0.0.11.tar.gz (132 kB)\n",
            "\u001b[K     |████████████████████████████████| 132 kB 14.5 MB/s \n",
            "\u001b[?25hRequirement already satisfied: pycparser in /usr/local/lib/python3.7/dist-packages (from cffi>=1.12.2->lenskit) (2.21)\n",
            "Requirement already satisfied: llvmlite<0.35,>=0.34.0.dev0 in /usr/local/lib/python3.7/dist-packages (from numba<0.54,>=0.51->lenskit) (0.34.0)\n",
            "Requirement already satisfied: setuptools in /usr/local/lib/python3.7/dist-packages (from numba<0.54,>=0.51->lenskit) (57.4.0)\n",
            "Requirement already satisfied: python-dateutil>=2.7.3 in /usr/local/lib/python3.7/dist-packages (from pandas>=0.24->lenskit) (2.8.2)\n",
            "Requirement already satisfied: pytz>=2017.2 in /usr/local/lib/python3.7/dist-packages (from pandas>=0.24->lenskit) (2018.9)\n",
            "Requirement already satisfied: six>=1.5 in /usr/local/lib/python3.7/dist-packages (from python-dateutil>=2.7.3->pandas>=0.24->lenskit) (1.15.0)\n",
            "Building wheels for collected packages: pickle5\n",
            "  Building wheel for pickle5 (setup.py) ... \u001b[?25l\u001b[?25hdone\n",
            "  Created wheel for pickle5: filename=pickle5-0.0.11-cp37-cp37m-linux_x86_64.whl size=219320 sha256=cfc5f1925801a681db870babd6fddcc12d2f97bb1d1f65b5e5dcce39e5af2429\n",
            "  Stored in directory: /root/.cache/pip/wheels/7e/6a/00/67136a90d6aca437d806d1d3cedf98106e840c97a3e5188198\n",
            "Successfully built pickle5\n",
            "Installing collected packages: pickle5, seedbank, csr, binpickle, lenskit\n",
            "Successfully installed binpickle-0.3.4 csr-0.4.0 lenskit-0.13.1 pickle5-0.0.11 seedbank-0.1.1\n"
          ]
        }
      ]
    },
    {
      "cell_type": "code",
      "metadata": {
        "id": "97nwqqPhqROd"
      },
      "source": [
        ""
      ],
      "execution_count": null,
      "outputs": []
    },
    {
      "cell_type": "code",
      "metadata": {
        "id": "TvwzJmwQpZMT"
      },
      "source": [
        "import pandas as pd\n",
        "import seaborn as sns\n",
        "from lenskit.algorithms import Recommender\n",
        "from lenskit.algorithms.user_knn import UserUser\n",
        "#hello"
      ],
      "execution_count": 5,
      "outputs": []
    },
    {
      "cell_type": "markdown",
      "metadata": {
        "id": "bt_iTmGLpZMX"
      },
      "source": [
        "### Some data exploration"
      ]
    },
    {
      "cell_type": "code",
      "metadata": {
        "colab": {
          "base_uri": "https://localhost:8080/",
          "height": 357
        },
        "id": "MPY2ELdkpZMZ",
        "outputId": "796bbb6a-98a4-47fd-aeea-ca33215c0dc8"
      },
      "source": [
        "ratings_df = pd.read_csv(data_path+\"/ratings.csv\", nrows=20000) \n",
        "ratings_df.rename(columns={'userId': 'user',\n",
        "                   'movieId': 'item'},\n",
        "          inplace=True, errors='raise')\n",
        "display(ratings_df.head(10))"
      ],
      "execution_count": 6,
      "outputs": [
        {
          "output_type": "display_data",
          "data": {
            "text/html": [
              "<div>\n",
              "<style scoped>\n",
              "    .dataframe tbody tr th:only-of-type {\n",
              "        vertical-align: middle;\n",
              "    }\n",
              "\n",
              "    .dataframe tbody tr th {\n",
              "        vertical-align: top;\n",
              "    }\n",
              "\n",
              "    .dataframe thead th {\n",
              "        text-align: right;\n",
              "    }\n",
              "</style>\n",
              "<table border=\"1\" class=\"dataframe\">\n",
              "  <thead>\n",
              "    <tr style=\"text-align: right;\">\n",
              "      <th></th>\n",
              "      <th>user</th>\n",
              "      <th>item</th>\n",
              "      <th>rating</th>\n",
              "      <th>timestamp</th>\n",
              "    </tr>\n",
              "  </thead>\n",
              "  <tbody>\n",
              "    <tr>\n",
              "      <th>0</th>\n",
              "      <td>1</td>\n",
              "      <td>2</td>\n",
              "      <td>3.5</td>\n",
              "      <td>1112486027</td>\n",
              "    </tr>\n",
              "    <tr>\n",
              "      <th>1</th>\n",
              "      <td>1</td>\n",
              "      <td>29</td>\n",
              "      <td>3.5</td>\n",
              "      <td>1112484676</td>\n",
              "    </tr>\n",
              "    <tr>\n",
              "      <th>2</th>\n",
              "      <td>1</td>\n",
              "      <td>32</td>\n",
              "      <td>3.5</td>\n",
              "      <td>1112484819</td>\n",
              "    </tr>\n",
              "    <tr>\n",
              "      <th>3</th>\n",
              "      <td>1</td>\n",
              "      <td>47</td>\n",
              "      <td>3.5</td>\n",
              "      <td>1112484727</td>\n",
              "    </tr>\n",
              "    <tr>\n",
              "      <th>4</th>\n",
              "      <td>1</td>\n",
              "      <td>50</td>\n",
              "      <td>3.5</td>\n",
              "      <td>1112484580</td>\n",
              "    </tr>\n",
              "    <tr>\n",
              "      <th>5</th>\n",
              "      <td>1</td>\n",
              "      <td>112</td>\n",
              "      <td>3.5</td>\n",
              "      <td>1094785740</td>\n",
              "    </tr>\n",
              "    <tr>\n",
              "      <th>6</th>\n",
              "      <td>1</td>\n",
              "      <td>151</td>\n",
              "      <td>4.0</td>\n",
              "      <td>1094785734</td>\n",
              "    </tr>\n",
              "    <tr>\n",
              "      <th>7</th>\n",
              "      <td>1</td>\n",
              "      <td>223</td>\n",
              "      <td>4.0</td>\n",
              "      <td>1112485573</td>\n",
              "    </tr>\n",
              "    <tr>\n",
              "      <th>8</th>\n",
              "      <td>1</td>\n",
              "      <td>253</td>\n",
              "      <td>4.0</td>\n",
              "      <td>1112484940</td>\n",
              "    </tr>\n",
              "    <tr>\n",
              "      <th>9</th>\n",
              "      <td>1</td>\n",
              "      <td>260</td>\n",
              "      <td>4.0</td>\n",
              "      <td>1112484826</td>\n",
              "    </tr>\n",
              "  </tbody>\n",
              "</table>\n",
              "</div>"
            ],
            "text/plain": [
              "   user  item  rating   timestamp\n",
              "0     1     2     3.5  1112486027\n",
              "1     1    29     3.5  1112484676\n",
              "2     1    32     3.5  1112484819\n",
              "3     1    47     3.5  1112484727\n",
              "4     1    50     3.5  1112484580\n",
              "5     1   112     3.5  1094785740\n",
              "6     1   151     4.0  1094785734\n",
              "7     1   223     4.0  1112485573\n",
              "8     1   253     4.0  1112484940\n",
              "9     1   260     4.0  1112484826"
            ]
          },
          "metadata": {}
        }
      ]
    },
    {
      "cell_type": "code",
      "metadata": {
        "id": "eUMFYmHZtZSZ"
      },
      "source": [
        "from google.colab import drive\n",
        "drive.mount('/content/drive')"
      ],
      "execution_count": null,
      "outputs": []
    },
    {
      "cell_type": "markdown",
      "metadata": {
        "id": "BcVajT50pZMg"
      },
      "source": [
        "We get more insight into each of the datasets. We display how many users and movies we have"
      ]
    },
    {
      "cell_type": "code",
      "metadata": {
        "id": "f32dRrACpZMj",
        "colab": {
          "base_uri": "https://localhost:8080/"
        },
        "outputId": "47b5b564-ae9d-4d30-a1a3-e60bfd58a9ef"
      },
      "source": [
        "print(ratings_df.info())\n",
        "print('number of users: ',len(ratings_df[\"user\"].unique()))\n",
        "print('number of movies: ', len(ratings_df[\"item\"].unique()))\n",
        "print()\n",
        "print('study of ratings')\n",
        "print(ratings_df.describe()['rating'])\n"
      ],
      "execution_count": 7,
      "outputs": [
        {
          "output_type": "stream",
          "name": "stdout",
          "text": [
            "<class 'pandas.core.frame.DataFrame'>\n",
            "RangeIndex: 20000 entries, 0 to 19999\n",
            "Data columns (total 4 columns):\n",
            " #   Column     Non-Null Count  Dtype  \n",
            "---  ------     --------------  -----  \n",
            " 0   user       20000 non-null  int64  \n",
            " 1   item       20000 non-null  int64  \n",
            " 2   rating     20000 non-null  float64\n",
            " 3   timestamp  20000 non-null  int64  \n",
            "dtypes: float64(1), int64(3)\n",
            "memory usage: 625.1 KB\n",
            "None\n",
            "number of users:  156\n",
            "number of movies:  4192\n",
            "\n",
            "study of ratings\n",
            "count    20000.000000\n",
            "mean         3.455500\n",
            "std          1.121308\n",
            "min          0.500000\n",
            "25%          3.000000\n",
            "50%          3.500000\n",
            "75%          4.000000\n",
            "max          5.000000\n",
            "Name: rating, dtype: float64\n"
          ]
        }
      ]
    },
    {
      "cell_type": "markdown",
      "metadata": {
        "id": "DtkMzSg1pZMm"
      },
      "source": [
        "Let´s see how often each rating occurs:"
      ]
    },
    {
      "cell_type": "code",
      "metadata": {
        "id": "pOs2uBcapZMo",
        "colab": {
          "base_uri": "https://localhost:8080/",
          "height": 845
        },
        "outputId": "7df26ca7-6aa8-4303-f1b4-b39fba37589d"
      },
      "source": [
        "ratings_df['rating'].hist(bins = 50, figsize=(20, 15))"
      ],
      "execution_count": 8,
      "outputs": [
        {
          "output_type": "execute_result",
          "data": {
            "text/plain": [
              "<matplotlib.axes._subplots.AxesSubplot at 0x7fc5bd5c18d0>"
            ]
          },
          "metadata": {},
          "execution_count": 8
        },
        {
          "output_type": "display_data",
          "data": {
            "image/png": "[encoded data removed]",
            "text/plain": [
              "<Figure size 1440x1080 with 1 Axes>"
            ]
          },
          "metadata": {
            "needs_background": "light"
          }
        }
      ]
    },
    {
      "cell_type": "markdown",
      "metadata": {
        "id": "wuonjfKipZMt"
      },
      "source": [
        "Also display some basic statistical analysis for the movies dataset"
      ]
    },
    {
      "cell_type": "code",
      "metadata": {
        "id": "9p7BS5PhpZMu",
        "colab": {
          "base_uri": "https://localhost:8080/",
          "height": 388
        },
        "outputId": "48cb80dd-1f6f-4895-9317-dda38e0b5038"
      },
      "source": [
        "movies_df = pd.read_csv(data_path+\"/movies.csv\")\n",
        "movies_df.rename(columns={'movieId': 'item'},\n",
        "          inplace=True, errors='raise')\n",
        "movies_df.index =movies_df['item']\n",
        "#movies_df=movies_df[['title', 'genres']]\n",
        "display(movies_df.head(10))"
      ],
      "execution_count": 21,
      "outputs": [
        {
          "output_type": "display_data",
          "data": {
            "text/html": [
              "<div>\n",
              "<style scoped>\n",
              "    .dataframe tbody tr th:only-of-type {\n",
              "        vertical-align: middle;\n",
              "    }\n",
              "\n",
              "    .dataframe tbody tr th {\n",
              "        vertical-align: top;\n",
              "    }\n",
              "\n",
              "    .dataframe thead th {\n",
              "        text-align: right;\n",
              "    }\n",
              "</style>\n",
              "<table border=\"1\" class=\"dataframe\">\n",
              "  <thead>\n",
              "    <tr style=\"text-align: right;\">\n",
              "      <th></th>\n",
              "      <th>item</th>\n",
              "      <th>title</th>\n",
              "      <th>genres</th>\n",
              "    </tr>\n",
              "    <tr>\n",
              "      <th>item</th>\n",
              "      <th></th>\n",
              "      <th></th>\n",
              "      <th></th>\n",
              "    </tr>\n",
              "  </thead>\n",
              "  <tbody>\n",
              "    <tr>\n",
              "      <th>1</th>\n",
              "      <td>1</td>\n",
              "      <td>Toy Story (1995)</td>\n",
              "      <td>Adventure|Animation|Children|Comedy|Fantasy</td>\n",
              "    </tr>\n",
              "    <tr>\n",
              "      <th>2</th>\n",
              "      <td>2</td>\n",
              "      <td>Jumanji (1995)</td>\n",
              "      <td>Adventure|Children|Fantasy</td>\n",
              "    </tr>\n",
              "    <tr>\n",
              "      <th>3</th>\n",
              "      <td>3</td>\n",
              "      <td>Grumpier Old Men (1995)</td>\n",
              "      <td>Comedy|Romance</td>\n",
              "    </tr>\n",
              "    <tr>\n",
              "      <th>4</th>\n",
              "      <td>4</td>\n",
              "      <td>Waiting to Exhale (1995)</td>\n",
              "      <td>Comedy|Drama|Romance</td>\n",
              "    </tr>\n",
              "    <tr>\n",
              "      <th>5</th>\n",
              "      <td>5</td>\n",
              "      <td>Father of the Bride Part II (1995)</td>\n",
              "      <td>Comedy</td>\n",
              "    </tr>\n",
              "    <tr>\n",
              "      <th>6</th>\n",
              "      <td>6</td>\n",
              "      <td>Heat (1995)</td>\n",
              "      <td>Action|Crime|Thriller</td>\n",
              "    </tr>\n",
              "    <tr>\n",
              "      <th>7</th>\n",
              "      <td>7</td>\n",
              "      <td>Sabrina (1995)</td>\n",
              "      <td>Comedy|Romance</td>\n",
              "    </tr>\n",
              "    <tr>\n",
              "      <th>8</th>\n",
              "      <td>8</td>\n",
              "      <td>Tom and Huck (1995)</td>\n",
              "      <td>Adventure|Children</td>\n",
              "    </tr>\n",
              "    <tr>\n",
              "      <th>9</th>\n",
              "      <td>9</td>\n",
              "      <td>Sudden Death (1995)</td>\n",
              "      <td>Action</td>\n",
              "    </tr>\n",
              "    <tr>\n",
              "      <th>10</th>\n",
              "      <td>10</td>\n",
              "      <td>GoldenEye (1995)</td>\n",
              "      <td>Action|Adventure|Thriller</td>\n",
              "    </tr>\n",
              "  </tbody>\n",
              "</table>\n",
              "</div>"
            ],
            "text/plain": [
              "      item  ...                                       genres\n",
              "item        ...                                             \n",
              "1        1  ...  Adventure|Animation|Children|Comedy|Fantasy\n",
              "2        2  ...                   Adventure|Children|Fantasy\n",
              "3        3  ...                               Comedy|Romance\n",
              "4        4  ...                         Comedy|Drama|Romance\n",
              "5        5  ...                                       Comedy\n",
              "6        6  ...                        Action|Crime|Thriller\n",
              "7        7  ...                               Comedy|Romance\n",
              "8        8  ...                           Adventure|Children\n",
              "9        9  ...                                       Action\n",
              "10      10  ...                    Action|Adventure|Thriller\n",
              "\n",
              "[10 rows x 3 columns]"
            ]
          },
          "metadata": {}
        }
      ]
    },
    {
      "cell_type": "markdown",
      "metadata": {
        "id": "z0xyGkW_pZM0"
      },
      "source": [
        "## Measuring sparsity of datasets"
      ]
    },
    {
      "cell_type": "markdown",
      "metadata": {
        "id": "K18p1JLfpZM1"
      },
      "source": [
        "### Visualization of the distribution of the number of evaluations for each movie.\n",
        "This is pretty muc the code from the lab"
      ]
    },
    {
      "cell_type": "code",
      "metadata": {
        "id": "y7rb6yJhpZM3",
        "colab": {
          "base_uri": "https://localhost:8080/",
          "height": 816
        },
        "outputId": "1699161f-f758-429d-9ad2-13f875e6ee59"
      },
      "source": [
        "\n",
        "count_ratings_df = ratings_df[['user','item']].groupby(['item']).count()\n",
        "display(count_ratings_df)\n",
        "sns.displot(data=count_ratings_df, x='user', binwidth=1)"
      ],
      "execution_count": 10,
      "outputs": [
        {
          "output_type": "display_data",
          "data": {
            "text/html": [
              "<div>\n",
              "<style scoped>\n",
              "    .dataframe tbody tr th:only-of-type {\n",
              "        vertical-align: middle;\n",
              "    }\n",
              "\n",
              "    .dataframe tbody tr th {\n",
              "        vertical-align: top;\n",
              "    }\n",
              "\n",
              "    .dataframe thead th {\n",
              "        text-align: right;\n",
              "    }\n",
              "</style>\n",
              "<table border=\"1\" class=\"dataframe\">\n",
              "  <thead>\n",
              "    <tr style=\"text-align: right;\">\n",
              "      <th></th>\n",
              "      <th>user</th>\n",
              "    </tr>\n",
              "    <tr>\n",
              "      <th>item</th>\n",
              "      <th></th>\n",
              "    </tr>\n",
              "  </thead>\n",
              "  <tbody>\n",
              "    <tr>\n",
              "      <th>1</th>\n",
              "      <td>57</td>\n",
              "    </tr>\n",
              "    <tr>\n",
              "      <th>2</th>\n",
              "      <td>21</td>\n",
              "    </tr>\n",
              "    <tr>\n",
              "      <th>3</th>\n",
              "      <td>18</td>\n",
              "    </tr>\n",
              "    <tr>\n",
              "      <th>4</th>\n",
              "      <td>3</td>\n",
              "    </tr>\n",
              "    <tr>\n",
              "      <th>5</th>\n",
              "      <td>11</td>\n",
              "    </tr>\n",
              "    <tr>\n",
              "      <th>...</th>\n",
              "      <td>...</td>\n",
              "    </tr>\n",
              "    <tr>\n",
              "      <th>116797</th>\n",
              "      <td>1</td>\n",
              "    </tr>\n",
              "    <tr>\n",
              "      <th>117511</th>\n",
              "      <td>1</td>\n",
              "    </tr>\n",
              "    <tr>\n",
              "      <th>117590</th>\n",
              "      <td>1</td>\n",
              "    </tr>\n",
              "    <tr>\n",
              "      <th>118696</th>\n",
              "      <td>1</td>\n",
              "    </tr>\n",
              "    <tr>\n",
              "      <th>125916</th>\n",
              "      <td>1</td>\n",
              "    </tr>\n",
              "  </tbody>\n",
              "</table>\n",
              "<p>4192 rows × 1 columns</p>\n",
              "</div>"
            ],
            "text/plain": [
              "        user\n",
              "item        \n",
              "1         57\n",
              "2         21\n",
              "3         18\n",
              "4          3\n",
              "5         11\n",
              "...      ...\n",
              "116797     1\n",
              "117511     1\n",
              "117590     1\n",
              "118696     1\n",
              "125916     1\n",
              "\n",
              "[4192 rows x 1 columns]"
            ]
          },
          "metadata": {}
        },
        {
          "output_type": "execute_result",
          "data": {
            "text/plain": [
              "<seaborn.axisgrid.FacetGrid at 0x7fc5b6cae3d0>"
            ]
          },
          "metadata": {},
          "execution_count": 10
        },
        {
          "output_type": "display_data",
          "data": {
            "image/png": "[encoded data removed]",
            "text/plain": [
              "<Figure size 360x360 with 1 Axes>"
            ]
          },
          "metadata": {
            "needs_background": "light"
          }
        }
      ]
    },
    {
      "cell_type": "markdown",
      "metadata": {
        "id": "KZvt1KdZpZM4"
      },
      "source": [
        "We want to visuaize instead on the horizontal axe the movies, and on the vertical axe the number of users who evaluated it."
      ]
    },
    {
      "cell_type": "code",
      "metadata": {
        "id": "WiJ31ULTpZM6",
        "colab": {
          "base_uri": "https://localhost:8080/",
          "height": 695
        },
        "outputId": "7fcff00e-9c5e-483c-e45f-1fc9e25b728f"
      },
      "source": [
        "count_ratings_df_ord = count_ratings_df.sort_values(by=\"user\", ascending=False).reset_index().reset_index()\n",
        "display(count_ratings_df_ord)\n",
        "sns.lineplot(data=count_ratings_df_ord, x='index', y='user')"
      ],
      "execution_count": 11,
      "outputs": [
        {
          "output_type": "display_data",
          "data": {
            "text/html": [
              "<div>\n",
              "<style scoped>\n",
              "    .dataframe tbody tr th:only-of-type {\n",
              "        vertical-align: middle;\n",
              "    }\n",
              "\n",
              "    .dataframe tbody tr th {\n",
              "        vertical-align: top;\n",
              "    }\n",
              "\n",
              "    .dataframe thead th {\n",
              "        text-align: right;\n",
              "    }\n",
              "</style>\n",
              "<table border=\"1\" class=\"dataframe\">\n",
              "  <thead>\n",
              "    <tr style=\"text-align: right;\">\n",
              "      <th></th>\n",
              "      <th>index</th>\n",
              "      <th>item</th>\n",
              "      <th>user</th>\n",
              "    </tr>\n",
              "  </thead>\n",
              "  <tbody>\n",
              "    <tr>\n",
              "      <th>0</th>\n",
              "      <td>0</td>\n",
              "      <td>296</td>\n",
              "      <td>82</td>\n",
              "    </tr>\n",
              "    <tr>\n",
              "      <th>1</th>\n",
              "      <td>1</td>\n",
              "      <td>356</td>\n",
              "      <td>80</td>\n",
              "    </tr>\n",
              "    <tr>\n",
              "      <th>2</th>\n",
              "      <td>2</td>\n",
              "      <td>480</td>\n",
              "      <td>73</td>\n",
              "    </tr>\n",
              "    <tr>\n",
              "      <th>3</th>\n",
              "      <td>3</td>\n",
              "      <td>318</td>\n",
              "      <td>70</td>\n",
              "    </tr>\n",
              "    <tr>\n",
              "      <th>4</th>\n",
              "      <td>4</td>\n",
              "      <td>593</td>\n",
              "      <td>68</td>\n",
              "    </tr>\n",
              "    <tr>\n",
              "      <th>...</th>\n",
              "      <td>...</td>\n",
              "      <td>...</td>\n",
              "      <td>...</td>\n",
              "    </tr>\n",
              "    <tr>\n",
              "      <th>4187</th>\n",
              "      <td>4187</td>\n",
              "      <td>5958</td>\n",
              "      <td>1</td>\n",
              "    </tr>\n",
              "    <tr>\n",
              "      <th>4188</th>\n",
              "      <td>4188</td>\n",
              "      <td>2070</td>\n",
              "      <td>1</td>\n",
              "    </tr>\n",
              "    <tr>\n",
              "      <th>4189</th>\n",
              "      <td>4189</td>\n",
              "      <td>2072</td>\n",
              "      <td>1</td>\n",
              "    </tr>\n",
              "    <tr>\n",
              "      <th>4190</th>\n",
              "      <td>4190</td>\n",
              "      <td>2084</td>\n",
              "      <td>1</td>\n",
              "    </tr>\n",
              "    <tr>\n",
              "      <th>4191</th>\n",
              "      <td>4191</td>\n",
              "      <td>125916</td>\n",
              "      <td>1</td>\n",
              "    </tr>\n",
              "  </tbody>\n",
              "</table>\n",
              "<p>4192 rows × 3 columns</p>\n",
              "</div>"
            ],
            "text/plain": [
              "      index    item  user\n",
              "0         0     296    82\n",
              "1         1     356    80\n",
              "2         2     480    73\n",
              "3         3     318    70\n",
              "4         4     593    68\n",
              "...     ...     ...   ...\n",
              "4187   4187    5958     1\n",
              "4188   4188    2070     1\n",
              "4189   4189    2072     1\n",
              "4190   4190    2084     1\n",
              "4191   4191  125916     1\n",
              "\n",
              "[4192 rows x 3 columns]"
            ]
          },
          "metadata": {}
        },
        {
          "output_type": "execute_result",
          "data": {
            "text/plain": [
              "<matplotlib.axes._subplots.AxesSubplot at 0x7fc5ad8e40d0>"
            ]
          },
          "metadata": {},
          "execution_count": 11
        },
        {
          "output_type": "display_data",
          "data": {
            "image/png": "[encoded data removed]",
            "text/plain": [
              "<Figure size 432x288 with 1 Axes>"
            ]
          },
          "metadata": {
            "needs_background": "light"
          }
        }
      ]
    },
    {
      "cell_type": "markdown",
      "metadata": {
        "id": "fSOhrfaBpZM8"
      },
      "source": [
        "# Algorithms:"
      ]
    },
    {
      "cell_type": "markdown",
      "metadata": {
        "id": "yqAPsnqJpZM_"
      },
      "source": [
        "To make sure our algorithms compile, we need to test the recommendations on a user. To do such thing we select a random user.\n",
        "For simplicity, we select a random user from the ratings_df Dataframe having more than 100 evaluations."
      ]
    },
    {
      "cell_type": "code",
      "metadata": {
        "id": "WZhPtDsJpZNB"
      },
      "source": [
        "users_ratings = ratings_df.groupby(['user']).count()\n",
        "\n",
        "selected = users_ratings['rating'] > 200\n",
        "selected_users = users_ratings.loc[selected]\n",
        "random_selected = selected_users.sample()\n",
        "select_column_df = random_selected.reset_index()['user']\n",
        "selected_user = select_column_df.iloc[0]"
      ],
      "execution_count": 12,
      "outputs": []
    },
    {
      "cell_type": "markdown",
      "metadata": {
        "id": "COtpgHNZpZNC"
      },
      "source": [
        "# Collaborative Algorithms"
      ]
    },
    {
      "cell_type": "markdown",
      "metadata": {
        "id": "eftD5JaRpZND"
      },
      "source": [
        "### Collaborative user-user recommender with Lenskit"
      ]
    },
    {
      "cell_type": "markdown",
      "metadata": {
        "id": "7V8Q0pe5pZNF"
      },
      "source": [
        "We use the collaborative user algorithm UserUser, that uses the nearest neighbors algorithm. The constructor takes as inputs the maximum and minumum number of neighbors to consider (we set them to 15 and 3). Then we use the adapt method of the Recommender class, to obtain a Recommender object. Then, we can use the fit method to train the model."
      ]
    },
    {
      "cell_type": "code",
      "metadata": {
        "id": "hNcFYFh_pZNG",
        "colab": {
          "base_uri": "https://localhost:8080/"
        },
        "outputId": "56f83ffc-9e05-44bb-80b4-7e6cce9abcfe"
      },
      "source": [
        "# We use the collaborative user algorithm UserUser, that use the nearest neighbors \n",
        "num_recs = 10  # Number of recommendations to generate\n",
        "user_user = UserUser(15, min_nbrs=3)  # Minimum (3) and maximum (15) number of neighbors to consider\n",
        "recsys = Recommender.adapt(user_user)\n",
        "recsys.fit(ratings_df)"
      ],
      "execution_count": 14,
      "outputs": [
        {
          "output_type": "stream",
          "name": "stderr",
          "text": [
            "/usr/local/lib/python3.7/dist-packages/numba/np/ufunc/parallel.py:363: NumbaWarning: The TBB threading layer requires TBB version 2019.5 or later i.e., TBB_INTERFACE_VERSION >= 11005. Found TBB_INTERFACE_VERSION = 9107. The TBB threading layer is disabled.\n",
            "  warnings.warn(problem)\n",
            "Numba is using threading layer omp - consider TBB\n",
            "BLAS using multiple threads - can cause oversubscription\n",
            "found 2 potential runtime problems - see https://boi.st/lkpy-perf\n"
          ]
        },
        {
          "output_type": "execute_result",
          "data": {
            "text/plain": [
              "<lenskit.algorithms.ranking.TopN at 0x7fc5ad947650>"
            ]
          },
          "metadata": {},
          "execution_count": 14
        }
      ]
    },
    {
      "cell_type": "markdown",
      "metadata": {
        "id": "X1pnQoH4pZNH"
      },
      "source": [
        "Now, we can provide the recommendations for a specific user. Let's generate 10 recommendations for the user selected for the previous example. We use the recommend method of the Recommender class to generate the recommendations. Then, we add the title information and display the recommendations."
      ]
    },
    {
      "cell_type": "code",
      "metadata": {
        "id": "ry-nZi93pZNJ",
        "colab": {
          "base_uri": "https://localhost:8080/",
          "height": 357
        },
        "outputId": "e3c3716b-cf83-4fee-87f5-7f1b2ab9577b"
      },
      "source": [
        "selected_movies_useruser = recsys.recommend(selected_user, 10) # generate 10 recommendations for the selected user \n",
        "selected_movies_useruser = selected_movies_useruser.join(movies_df['title'], on='item')\n",
        "display(selected_movies_useruser)"
      ],
      "execution_count": 15,
      "outputs": [
        {
          "output_type": "display_data",
          "data": {
            "text/html": [
              "<div>\n",
              "<style scoped>\n",
              "    .dataframe tbody tr th:only-of-type {\n",
              "        vertical-align: middle;\n",
              "    }\n",
              "\n",
              "    .dataframe tbody tr th {\n",
              "        vertical-align: top;\n",
              "    }\n",
              "\n",
              "    .dataframe thead th {\n",
              "        text-align: right;\n",
              "    }\n",
              "</style>\n",
              "<table border=\"1\" class=\"dataframe\">\n",
              "  <thead>\n",
              "    <tr style=\"text-align: right;\">\n",
              "      <th></th>\n",
              "      <th>item</th>\n",
              "      <th>score</th>\n",
              "      <th>title</th>\n",
              "    </tr>\n",
              "  </thead>\n",
              "  <tbody>\n",
              "    <tr>\n",
              "      <th>0</th>\n",
              "      <td>66934</td>\n",
              "      <td>5.079266</td>\n",
              "      <td>Dr. Horrible's Sing-Along Blog (2008)</td>\n",
              "    </tr>\n",
              "    <tr>\n",
              "      <th>1</th>\n",
              "      <td>2301</td>\n",
              "      <td>4.847650</td>\n",
              "      <td>History of the World: Part I (1981)</td>\n",
              "    </tr>\n",
              "    <tr>\n",
              "      <th>2</th>\n",
              "      <td>73</td>\n",
              "      <td>4.796207</td>\n",
              "      <td>Misérables, Les (1995)</td>\n",
              "    </tr>\n",
              "    <tr>\n",
              "      <th>3</th>\n",
              "      <td>3275</td>\n",
              "      <td>4.773100</td>\n",
              "      <td>Boondock Saints, The (2000)</td>\n",
              "    </tr>\n",
              "    <tr>\n",
              "      <th>4</th>\n",
              "      <td>1680</td>\n",
              "      <td>4.706072</td>\n",
              "      <td>Sliding Doors (1998)</td>\n",
              "    </tr>\n",
              "    <tr>\n",
              "      <th>5</th>\n",
              "      <td>1805</td>\n",
              "      <td>4.690542</td>\n",
              "      <td>Wild Things (1998)</td>\n",
              "    </tr>\n",
              "    <tr>\n",
              "      <th>6</th>\n",
              "      <td>6323</td>\n",
              "      <td>4.684650</td>\n",
              "      <td>Identity (2003)</td>\n",
              "    </tr>\n",
              "    <tr>\n",
              "      <th>7</th>\n",
              "      <td>1663</td>\n",
              "      <td>4.671536</td>\n",
              "      <td>Stripes (1981)</td>\n",
              "    </tr>\n",
              "    <tr>\n",
              "      <th>8</th>\n",
              "      <td>3020</td>\n",
              "      <td>4.567859</td>\n",
              "      <td>Falling Down (1993)</td>\n",
              "    </tr>\n",
              "    <tr>\n",
              "      <th>9</th>\n",
              "      <td>162</td>\n",
              "      <td>4.543364</td>\n",
              "      <td>Crumb (1994)</td>\n",
              "    </tr>\n",
              "  </tbody>\n",
              "</table>\n",
              "</div>"
            ],
            "text/plain": [
              "    item     score                                  title\n",
              "0  66934  5.079266  Dr. Horrible's Sing-Along Blog (2008)\n",
              "1   2301  4.847650    History of the World: Part I (1981)\n",
              "2     73  4.796207                 Misérables, Les (1995)\n",
              "3   3275  4.773100            Boondock Saints, The (2000)\n",
              "4   1680  4.706072                   Sliding Doors (1998)\n",
              "5   1805  4.690542                     Wild Things (1998)\n",
              "6   6323  4.684650                        Identity (2003)\n",
              "7   1663  4.671536                         Stripes (1981)\n",
              "8   3020  4.567859                    Falling Down (1993)\n",
              "9    162  4.543364                           Crumb (1994)"
            ]
          },
          "metadata": {}
        }
      ]
    },
    {
      "cell_type": "markdown",
      "metadata": {
        "id": "XnFAY11epZNM"
      },
      "source": [
        "# Content based algorithm\n"
      ]
    },
    {
      "cell_type": "markdown",
      "metadata": {
        "id": "b7OHWnd1pZNM"
      },
      "source": [
        "Now, we need to select the user evaluations, that we will use to train our recommender. We print the number of ratings that we have for the considered user, and the extracted dataset, ordered by ratings."
      ]
    },
    {
      "cell_type": "code",
      "metadata": {
        "colab": {
          "base_uri": "https://localhost:8080/",
          "height": 234
        },
        "id": "FNxGZIn08dvK",
        "outputId": "b6c5b979-4ecd-4192-cacd-be4c10a9db1d"
      },
      "source": [
        "movies_df.head()"
      ],
      "execution_count": 19,
      "outputs": [
        {
          "output_type": "execute_result",
          "data": {
            "text/html": [
              "<div>\n",
              "<style scoped>\n",
              "    .dataframe tbody tr th:only-of-type {\n",
              "        vertical-align: middle;\n",
              "    }\n",
              "\n",
              "    .dataframe tbody tr th {\n",
              "        vertical-align: top;\n",
              "    }\n",
              "\n",
              "    .dataframe thead th {\n",
              "        text-align: right;\n",
              "    }\n",
              "</style>\n",
              "<table border=\"1\" class=\"dataframe\">\n",
              "  <thead>\n",
              "    <tr style=\"text-align: right;\">\n",
              "      <th></th>\n",
              "      <th>title</th>\n",
              "      <th>genres</th>\n",
              "    </tr>\n",
              "    <tr>\n",
              "      <th>item</th>\n",
              "      <th></th>\n",
              "      <th></th>\n",
              "    </tr>\n",
              "  </thead>\n",
              "  <tbody>\n",
              "    <tr>\n",
              "      <th>1</th>\n",
              "      <td>Toy Story (1995)</td>\n",
              "      <td>Adventure|Animation|Children|Comedy|Fantasy</td>\n",
              "    </tr>\n",
              "    <tr>\n",
              "      <th>2</th>\n",
              "      <td>Jumanji (1995)</td>\n",
              "      <td>Adventure|Children|Fantasy</td>\n",
              "    </tr>\n",
              "    <tr>\n",
              "      <th>3</th>\n",
              "      <td>Grumpier Old Men (1995)</td>\n",
              "      <td>Comedy|Romance</td>\n",
              "    </tr>\n",
              "    <tr>\n",
              "      <th>4</th>\n",
              "      <td>Waiting to Exhale (1995)</td>\n",
              "      <td>Comedy|Drama|Romance</td>\n",
              "    </tr>\n",
              "    <tr>\n",
              "      <th>5</th>\n",
              "      <td>Father of the Bride Part II (1995)</td>\n",
              "      <td>Comedy</td>\n",
              "    </tr>\n",
              "  </tbody>\n",
              "</table>\n",
              "</div>"
            ],
            "text/plain": [
              "                                   title                                       genres\n",
              "item                                                                                 \n",
              "1                       Toy Story (1995)  Adventure|Animation|Children|Comedy|Fantasy\n",
              "2                         Jumanji (1995)                   Adventure|Children|Fantasy\n",
              "3                Grumpier Old Men (1995)                               Comedy|Romance\n",
              "4               Waiting to Exhale (1995)                         Comedy|Drama|Romance\n",
              "5     Father of the Bride Part II (1995)                                       Comedy"
            ]
          },
          "metadata": {},
          "execution_count": 19
        }
      ]
    },
    {
      "cell_type": "code",
      "metadata": {
        "id": "96L48JlMpZNN",
        "colab": {
          "base_uri": "https://localhost:8080/",
          "height": 761
        },
        "outputId": "11443dde-f964-4f30-8742-021b8c43d0bd"
      },
      "source": [
        "selected_user_ratings = ratings_df.loc[ratings_df['user'] == selected_user]\n",
        "selected_user_ratings = selected_user_ratings.sort_values(by='item', ascending=True)\n",
        "print(\"Rated movies: \" + str(selected_user_ratings.shape[0]))\n",
        "display(selected_user_ratings.head(10))\n",
        "rated_movies_df = movies_df.loc[list(selected_user_ratings['item'])]\n",
        "#rated_movies_df = rated_movies_df[['title', 'plot']]\n",
        "print(\"Rated movies: \" + str(rated_movies_df.shape[0]))\n",
        "display(rated_movies_df.head(10))\n",
        "\n",
        "\n",
        "\n",
        "\n"
      ],
      "execution_count": 22,
      "outputs": [
        {
          "output_type": "stream",
          "name": "stdout",
          "text": [
            "Rated movies: 246\n"
          ]
        },
        {
          "output_type": "display_data",
          "data": {
            "text/html": [
              "<div>\n",
              "<style scoped>\n",
              "    .dataframe tbody tr th:only-of-type {\n",
              "        vertical-align: middle;\n",
              "    }\n",
              "\n",
              "    .dataframe tbody tr th {\n",
              "        vertical-align: top;\n",
              "    }\n",
              "\n",
              "    .dataframe thead th {\n",
              "        text-align: right;\n",
              "    }\n",
              "</style>\n",
              "<table border=\"1\" class=\"dataframe\">\n",
              "  <thead>\n",
              "    <tr style=\"text-align: right;\">\n",
              "      <th></th>\n",
              "      <th>user</th>\n",
              "      <th>item</th>\n",
              "      <th>rating</th>\n",
              "      <th>timestamp</th>\n",
              "    </tr>\n",
              "  </thead>\n",
              "  <tbody>\n",
              "    <tr>\n",
              "      <th>3534</th>\n",
              "      <td>31</td>\n",
              "      <td>1</td>\n",
              "      <td>3.0</td>\n",
              "      <td>1424733487</td>\n",
              "    </tr>\n",
              "    <tr>\n",
              "      <th>3535</th>\n",
              "      <td>31</td>\n",
              "      <td>110</td>\n",
              "      <td>5.0</td>\n",
              "      <td>1424733473</td>\n",
              "    </tr>\n",
              "    <tr>\n",
              "      <th>3536</th>\n",
              "      <td>31</td>\n",
              "      <td>260</td>\n",
              "      <td>5.0</td>\n",
              "      <td>1424733433</td>\n",
              "    </tr>\n",
              "    <tr>\n",
              "      <th>3537</th>\n",
              "      <td>31</td>\n",
              "      <td>364</td>\n",
              "      <td>3.0</td>\n",
              "      <td>1424844807</td>\n",
              "    </tr>\n",
              "    <tr>\n",
              "      <th>3538</th>\n",
              "      <td>31</td>\n",
              "      <td>527</td>\n",
              "      <td>0.5</td>\n",
              "      <td>1424733598</td>\n",
              "    </tr>\n",
              "    <tr>\n",
              "      <th>3539</th>\n",
              "      <td>31</td>\n",
              "      <td>588</td>\n",
              "      <td>3.0</td>\n",
              "      <td>1424842869</td>\n",
              "    </tr>\n",
              "    <tr>\n",
              "      <th>3540</th>\n",
              "      <td>31</td>\n",
              "      <td>594</td>\n",
              "      <td>2.5</td>\n",
              "      <td>1424844811</td>\n",
              "    </tr>\n",
              "    <tr>\n",
              "      <th>3541</th>\n",
              "      <td>31</td>\n",
              "      <td>616</td>\n",
              "      <td>4.0</td>\n",
              "      <td>1424844817</td>\n",
              "    </tr>\n",
              "    <tr>\n",
              "      <th>3542</th>\n",
              "      <td>31</td>\n",
              "      <td>1196</td>\n",
              "      <td>5.0</td>\n",
              "      <td>1424733435</td>\n",
              "    </tr>\n",
              "    <tr>\n",
              "      <th>3543</th>\n",
              "      <td>31</td>\n",
              "      <td>1197</td>\n",
              "      <td>3.0</td>\n",
              "      <td>1424734492</td>\n",
              "    </tr>\n",
              "  </tbody>\n",
              "</table>\n",
              "</div>"
            ],
            "text/plain": [
              "      user  item  rating   timestamp\n",
              "3534    31     1     3.0  1424733487\n",
              "3535    31   110     5.0  1424733473\n",
              "3536    31   260     5.0  1424733433\n",
              "3537    31   364     3.0  1424844807\n",
              "3538    31   527     0.5  1424733598\n",
              "3539    31   588     3.0  1424842869\n",
              "3540    31   594     2.5  1424844811\n",
              "3541    31   616     4.0  1424844817\n",
              "3542    31  1196     5.0  1424733435\n",
              "3543    31  1197     3.0  1424734492"
            ]
          },
          "metadata": {}
        },
        {
          "output_type": "stream",
          "name": "stdout",
          "text": [
            "Rated movies: 246\n"
          ]
        },
        {
          "output_type": "display_data",
          "data": {
            "text/html": [
              "<div>\n",
              "<style scoped>\n",
              "    .dataframe tbody tr th:only-of-type {\n",
              "        vertical-align: middle;\n",
              "    }\n",
              "\n",
              "    .dataframe tbody tr th {\n",
              "        vertical-align: top;\n",
              "    }\n",
              "\n",
              "    .dataframe thead th {\n",
              "        text-align: right;\n",
              "    }\n",
              "</style>\n",
              "<table border=\"1\" class=\"dataframe\">\n",
              "  <thead>\n",
              "    <tr style=\"text-align: right;\">\n",
              "      <th></th>\n",
              "      <th>item</th>\n",
              "      <th>title</th>\n",
              "      <th>genres</th>\n",
              "    </tr>\n",
              "    <tr>\n",
              "      <th>item</th>\n",
              "      <th></th>\n",
              "      <th></th>\n",
              "      <th></th>\n",
              "    </tr>\n",
              "  </thead>\n",
              "  <tbody>\n",
              "    <tr>\n",
              "      <th>1</th>\n",
              "      <td>1</td>\n",
              "      <td>Toy Story (1995)</td>\n",
              "      <td>Adventure|Animation|Children|Comedy|Fantasy</td>\n",
              "    </tr>\n",
              "    <tr>\n",
              "      <th>110</th>\n",
              "      <td>110</td>\n",
              "      <td>Braveheart (1995)</td>\n",
              "      <td>Action|Drama|War</td>\n",
              "    </tr>\n",
              "    <tr>\n",
              "      <th>260</th>\n",
              "      <td>260</td>\n",
              "      <td>Star Wars: Episode IV - A New Hope (1977)</td>\n",
              "      <td>Action|Adventure|Sci-Fi</td>\n",
              "    </tr>\n",
              "    <tr>\n",
              "      <th>364</th>\n",
              "      <td>364</td>\n",
              "      <td>Lion King, The (1994)</td>\n",
              "      <td>Adventure|Animation|Children|Drama|Musical|IMAX</td>\n",
              "    </tr>\n",
              "    <tr>\n",
              "      <th>527</th>\n",
              "      <td>527</td>\n",
              "      <td>Schindler's List (1993)</td>\n",
              "      <td>Drama|War</td>\n",
              "    </tr>\n",
              "    <tr>\n",
              "      <th>588</th>\n",
              "      <td>588</td>\n",
              "      <td>Aladdin (1992)</td>\n",
              "      <td>Adventure|Animation|Children|Comedy|Musical</td>\n",
              "    </tr>\n",
              "    <tr>\n",
              "      <th>594</th>\n",
              "      <td>594</td>\n",
              "      <td>Snow White and the Seven Dwarfs (1937)</td>\n",
              "      <td>Animation|Children|Drama|Fantasy|Musical</td>\n",
              "    </tr>\n",
              "    <tr>\n",
              "      <th>616</th>\n",
              "      <td>616</td>\n",
              "      <td>Aristocats, The (1970)</td>\n",
              "      <td>Animation|Children</td>\n",
              "    </tr>\n",
              "    <tr>\n",
              "      <th>1196</th>\n",
              "      <td>1196</td>\n",
              "      <td>Star Wars: Episode V - The Empire Strikes Back...</td>\n",
              "      <td>Action|Adventure|Sci-Fi</td>\n",
              "    </tr>\n",
              "    <tr>\n",
              "      <th>1197</th>\n",
              "      <td>1197</td>\n",
              "      <td>Princess Bride, The (1987)</td>\n",
              "      <td>Action|Adventure|Comedy|Fantasy|Romance</td>\n",
              "    </tr>\n",
              "  </tbody>\n",
              "</table>\n",
              "</div>"
            ],
            "text/plain": [
              "      item  ...                                           genres\n",
              "item        ...                                                 \n",
              "1        1  ...      Adventure|Animation|Children|Comedy|Fantasy\n",
              "110    110  ...                                 Action|Drama|War\n",
              "260    260  ...                          Action|Adventure|Sci-Fi\n",
              "364    364  ...  Adventure|Animation|Children|Drama|Musical|IMAX\n",
              "527    527  ...                                        Drama|War\n",
              "588    588  ...      Adventure|Animation|Children|Comedy|Musical\n",
              "594    594  ...         Animation|Children|Drama|Fantasy|Musical\n",
              "616    616  ...                               Animation|Children\n",
              "1196  1196  ...                          Action|Adventure|Sci-Fi\n",
              "1197  1197  ...          Action|Adventure|Comedy|Fantasy|Romance\n",
              "\n",
              "[10 rows x 3 columns]"
            ]
          },
          "metadata": {}
        }
      ]
    },
    {
      "cell_type": "markdown",
      "metadata": {
        "id": "jUIFkEkVpZNO"
      },
      "source": [
        "We use a similar approach to select the unrated movies. We compute the set of movies index that are not rated using the set subtraction operator. We access the index of the movies_df and the rated_movies_df Dataframes, create two sets containing such indexes, compute the difference set diff, and select the movies having an index in the diff set."
      ]
    },
    {
      "cell_type": "code",
      "metadata": {
        "id": "CRiyd8TZpZNO",
        "colab": {
          "base_uri": "https://localhost:8080/",
          "height": 405
        },
        "outputId": "a902748b-7ad7-473d-8991-9d10509042b4"
      },
      "source": [
        "diff = set(movies_df.index) - set(rated_movies_df.index)\n",
        "unrated_movies_df = movies_df.loc[diff]\n",
        "#unrated_movies_df = unrated_movies_df[['title', 'plot']]\n",
        "print(\"Unrated movies: \" + str(unrated_movies_df.shape[0]))\n",
        "display(unrated_movies_df.head(10))"
      ],
      "execution_count": 24,
      "outputs": [
        {
          "output_type": "stream",
          "name": "stdout",
          "text": [
            "Unrated movies: 27032\n"
          ]
        },
        {
          "output_type": "display_data",
          "data": {
            "text/html": [
              "<div>\n",
              "<style scoped>\n",
              "    .dataframe tbody tr th:only-of-type {\n",
              "        vertical-align: middle;\n",
              "    }\n",
              "\n",
              "    .dataframe tbody tr th {\n",
              "        vertical-align: top;\n",
              "    }\n",
              "\n",
              "    .dataframe thead th {\n",
              "        text-align: right;\n",
              "    }\n",
              "</style>\n",
              "<table border=\"1\" class=\"dataframe\">\n",
              "  <thead>\n",
              "    <tr style=\"text-align: right;\">\n",
              "      <th></th>\n",
              "      <th>item</th>\n",
              "      <th>title</th>\n",
              "      <th>genres</th>\n",
              "    </tr>\n",
              "    <tr>\n",
              "      <th>item</th>\n",
              "      <th></th>\n",
              "      <th></th>\n",
              "      <th></th>\n",
              "    </tr>\n",
              "  </thead>\n",
              "  <tbody>\n",
              "    <tr>\n",
              "      <th>131072</th>\n",
              "      <td>131072</td>\n",
              "      <td>Jesus liebt mich (2012)</td>\n",
              "      <td>Comedy</td>\n",
              "    </tr>\n",
              "    <tr>\n",
              "      <th>2</th>\n",
              "      <td>2</td>\n",
              "      <td>Jumanji (1995)</td>\n",
              "      <td>Adventure|Children|Fantasy</td>\n",
              "    </tr>\n",
              "    <tr>\n",
              "      <th>3</th>\n",
              "      <td>3</td>\n",
              "      <td>Grumpier Old Men (1995)</td>\n",
              "      <td>Comedy|Romance</td>\n",
              "    </tr>\n",
              "    <tr>\n",
              "      <th>4</th>\n",
              "      <td>4</td>\n",
              "      <td>Waiting to Exhale (1995)</td>\n",
              "      <td>Comedy|Drama|Romance</td>\n",
              "    </tr>\n",
              "    <tr>\n",
              "      <th>5</th>\n",
              "      <td>5</td>\n",
              "      <td>Father of the Bride Part II (1995)</td>\n",
              "      <td>Comedy</td>\n",
              "    </tr>\n",
              "    <tr>\n",
              "      <th>6</th>\n",
              "      <td>6</td>\n",
              "      <td>Heat (1995)</td>\n",
              "      <td>Action|Crime|Thriller</td>\n",
              "    </tr>\n",
              "    <tr>\n",
              "      <th>7</th>\n",
              "      <td>7</td>\n",
              "      <td>Sabrina (1995)</td>\n",
              "      <td>Comedy|Romance</td>\n",
              "    </tr>\n",
              "    <tr>\n",
              "      <th>8</th>\n",
              "      <td>8</td>\n",
              "      <td>Tom and Huck (1995)</td>\n",
              "      <td>Adventure|Children</td>\n",
              "    </tr>\n",
              "    <tr>\n",
              "      <th>9</th>\n",
              "      <td>9</td>\n",
              "      <td>Sudden Death (1995)</td>\n",
              "      <td>Action</td>\n",
              "    </tr>\n",
              "    <tr>\n",
              "      <th>10</th>\n",
              "      <td>10</td>\n",
              "      <td>GoldenEye (1995)</td>\n",
              "      <td>Action|Adventure|Thriller</td>\n",
              "    </tr>\n",
              "  </tbody>\n",
              "</table>\n",
              "</div>"
            ],
            "text/plain": [
              "          item                               title                      genres\n",
              "item                                                                          \n",
              "131072  131072             Jesus liebt mich (2012)                      Comedy\n",
              "2            2                      Jumanji (1995)  Adventure|Children|Fantasy\n",
              "3            3             Grumpier Old Men (1995)              Comedy|Romance\n",
              "4            4            Waiting to Exhale (1995)        Comedy|Drama|Romance\n",
              "5            5  Father of the Bride Part II (1995)                      Comedy\n",
              "6            6                         Heat (1995)       Action|Crime|Thriller\n",
              "7            7                      Sabrina (1995)              Comedy|Romance\n",
              "8            8                 Tom and Huck (1995)          Adventure|Children\n",
              "9            9                 Sudden Death (1995)                      Action\n",
              "10          10                    GoldenEye (1995)   Action|Adventure|Thriller"
            ]
          },
          "metadata": {}
        }
      ]
    },
    {
      "cell_type": "markdown",
      "metadata": {
        "id": "MHIp7d0MpZNP"
      },
      "source": [
        "Finally, we can add the rating so that we just need to work with a single Dataframe. We do it using the join method. We specify the item as idex in the selected_user_ratings Dataframe to procede with the join. The we select the rating column."
      ]
    },
    {
      "cell_type": "code",
      "metadata": {
        "colab": {
          "base_uri": "https://localhost:8080/",
          "height": 320
        },
        "id": "T67BjxO5-Odm",
        "outputId": "95ad5189-7cf8-4693-9b3d-c07f28b48eea"
      },
      "source": [
        "rated_moveies_df = rated_movies_df.drop(['item'], axis = 1, inplace = True) \n"
      ],
      "execution_count": 28,
      "outputs": [
        {
          "output_type": "error",
          "ename": "KeyError",
          "evalue": "ignored",
          "traceback": [
            "\u001b[0;31m---------------------------------------------------------------------------\u001b[0m",
            "\u001b[0;31mKeyError\u001b[0m                                  Traceback (most recent call last)",
            "\u001b[0;32m<ipython-input-28-2743b22ef3c9>\u001b[0m in \u001b[0;36m<module>\u001b[0;34m()\u001b[0m\n\u001b[0;32m----> 1\u001b[0;31m \u001b[0mrated_moveies_df\u001b[0m \u001b[0;34m=\u001b[0m \u001b[0mrated_movies_df\u001b[0m\u001b[0;34m.\u001b[0m\u001b[0mdrop\u001b[0m\u001b[0;34m(\u001b[0m\u001b[0;34m[\u001b[0m\u001b[0;34m'item'\u001b[0m\u001b[0;34m]\u001b[0m\u001b[0;34m,\u001b[0m \u001b[0maxis\u001b[0m \u001b[0;34m=\u001b[0m \u001b[0;36m1\u001b[0m\u001b[0;34m,\u001b[0m \u001b[0minplace\u001b[0m \u001b[0;34m=\u001b[0m \u001b[0;32mTrue\u001b[0m\u001b[0;34m)\u001b[0m\u001b[0;34m\u001b[0m\u001b[0;34m\u001b[0m\u001b[0m\n\u001b[0m\u001b[1;32m      2\u001b[0m \u001b[0mrated_movies_df\u001b[0m\u001b[0;34m.\u001b[0m\u001b[0mhead\u001b[0m\u001b[0;34m(\u001b[0m\u001b[0;34m)\u001b[0m\u001b[0;34m\u001b[0m\u001b[0;34m\u001b[0m\u001b[0m\n",
            "\u001b[0;32m/usr/local/lib/python3.7/dist-packages/pandas/core/frame.py\u001b[0m in \u001b[0;36mdrop\u001b[0;34m(self, labels, axis, index, columns, level, inplace, errors)\u001b[0m\n\u001b[1;32m   4172\u001b[0m             \u001b[0mlevel\u001b[0m\u001b[0;34m=\u001b[0m\u001b[0mlevel\u001b[0m\u001b[0;34m,\u001b[0m\u001b[0;34m\u001b[0m\u001b[0;34m\u001b[0m\u001b[0m\n\u001b[1;32m   4173\u001b[0m             \u001b[0minplace\u001b[0m\u001b[0;34m=\u001b[0m\u001b[0minplace\u001b[0m\u001b[0;34m,\u001b[0m\u001b[0;34m\u001b[0m\u001b[0;34m\u001b[0m\u001b[0m\n\u001b[0;32m-> 4174\u001b[0;31m             \u001b[0merrors\u001b[0m\u001b[0;34m=\u001b[0m\u001b[0merrors\u001b[0m\u001b[0;34m,\u001b[0m\u001b[0;34m\u001b[0m\u001b[0;34m\u001b[0m\u001b[0m\n\u001b[0m\u001b[1;32m   4175\u001b[0m         )\n\u001b[1;32m   4176\u001b[0m \u001b[0;34m\u001b[0m\u001b[0m\n",
            "\u001b[0;32m/usr/local/lib/python3.7/dist-packages/pandas/core/generic.py\u001b[0m in \u001b[0;36mdrop\u001b[0;34m(self, labels, axis, index, columns, level, inplace, errors)\u001b[0m\n\u001b[1;32m   3887\u001b[0m         \u001b[0;32mfor\u001b[0m \u001b[0maxis\u001b[0m\u001b[0;34m,\u001b[0m \u001b[0mlabels\u001b[0m \u001b[0;32min\u001b[0m \u001b[0maxes\u001b[0m\u001b[0;34m.\u001b[0m\u001b[0mitems\u001b[0m\u001b[0;34m(\u001b[0m\u001b[0;34m)\u001b[0m\u001b[0;34m:\u001b[0m\u001b[0;34m\u001b[0m\u001b[0;34m\u001b[0m\u001b[0m\n\u001b[1;32m   3888\u001b[0m             \u001b[0;32mif\u001b[0m \u001b[0mlabels\u001b[0m \u001b[0;32mis\u001b[0m \u001b[0;32mnot\u001b[0m \u001b[0;32mNone\u001b[0m\u001b[0;34m:\u001b[0m\u001b[0;34m\u001b[0m\u001b[0;34m\u001b[0m\u001b[0m\n\u001b[0;32m-> 3889\u001b[0;31m                 \u001b[0mobj\u001b[0m \u001b[0;34m=\u001b[0m \u001b[0mobj\u001b[0m\u001b[0;34m.\u001b[0m\u001b[0m_drop_axis\u001b[0m\u001b[0;34m(\u001b[0m\u001b[0mlabels\u001b[0m\u001b[0;34m,\u001b[0m \u001b[0maxis\u001b[0m\u001b[0;34m,\u001b[0m \u001b[0mlevel\u001b[0m\u001b[0;34m=\u001b[0m\u001b[0mlevel\u001b[0m\u001b[0;34m,\u001b[0m \u001b[0merrors\u001b[0m\u001b[0;34m=\u001b[0m\u001b[0merrors\u001b[0m\u001b[0;34m)\u001b[0m\u001b[0;34m\u001b[0m\u001b[0;34m\u001b[0m\u001b[0m\n\u001b[0m\u001b[1;32m   3890\u001b[0m \u001b[0;34m\u001b[0m\u001b[0m\n\u001b[1;32m   3891\u001b[0m         \u001b[0;32mif\u001b[0m \u001b[0minplace\u001b[0m\u001b[0;34m:\u001b[0m\u001b[0;34m\u001b[0m\u001b[0;34m\u001b[0m\u001b[0m\n",
            "\u001b[0;32m/usr/local/lib/python3.7/dist-packages/pandas/core/generic.py\u001b[0m in \u001b[0;36m_drop_axis\u001b[0;34m(self, labels, axis, level, errors)\u001b[0m\n\u001b[1;32m   3921\u001b[0m                 \u001b[0mnew_axis\u001b[0m \u001b[0;34m=\u001b[0m \u001b[0maxis\u001b[0m\u001b[0;34m.\u001b[0m\u001b[0mdrop\u001b[0m\u001b[0;34m(\u001b[0m\u001b[0mlabels\u001b[0m\u001b[0;34m,\u001b[0m \u001b[0mlevel\u001b[0m\u001b[0;34m=\u001b[0m\u001b[0mlevel\u001b[0m\u001b[0;34m,\u001b[0m \u001b[0merrors\u001b[0m\u001b[0;34m=\u001b[0m\u001b[0merrors\u001b[0m\u001b[0;34m)\u001b[0m\u001b[0;34m\u001b[0m\u001b[0;34m\u001b[0m\u001b[0m\n\u001b[1;32m   3922\u001b[0m             \u001b[0;32melse\u001b[0m\u001b[0;34m:\u001b[0m\u001b[0;34m\u001b[0m\u001b[0;34m\u001b[0m\u001b[0m\n\u001b[0;32m-> 3923\u001b[0;31m                 \u001b[0mnew_axis\u001b[0m \u001b[0;34m=\u001b[0m \u001b[0maxis\u001b[0m\u001b[0;34m.\u001b[0m\u001b[0mdrop\u001b[0m\u001b[0;34m(\u001b[0m\u001b[0mlabels\u001b[0m\u001b[0;34m,\u001b[0m \u001b[0merrors\u001b[0m\u001b[0;34m=\u001b[0m\u001b[0merrors\u001b[0m\u001b[0;34m)\u001b[0m\u001b[0;34m\u001b[0m\u001b[0;34m\u001b[0m\u001b[0m\n\u001b[0m\u001b[1;32m   3924\u001b[0m             \u001b[0mresult\u001b[0m \u001b[0;34m=\u001b[0m \u001b[0mself\u001b[0m\u001b[0;34m.\u001b[0m\u001b[0mreindex\u001b[0m\u001b[0;34m(\u001b[0m\u001b[0;34m**\u001b[0m\u001b[0;34m{\u001b[0m\u001b[0maxis_name\u001b[0m\u001b[0;34m:\u001b[0m \u001b[0mnew_axis\u001b[0m\u001b[0;34m}\u001b[0m\u001b[0;34m)\u001b[0m\u001b[0;34m\u001b[0m\u001b[0;34m\u001b[0m\u001b[0m\n\u001b[1;32m   3925\u001b[0m \u001b[0;34m\u001b[0m\u001b[0m\n",
            "\u001b[0;32m/usr/local/lib/python3.7/dist-packages/pandas/core/indexes/base.py\u001b[0m in \u001b[0;36mdrop\u001b[0;34m(self, labels, errors)\u001b[0m\n\u001b[1;32m   5285\u001b[0m         \u001b[0;32mif\u001b[0m \u001b[0mmask\u001b[0m\u001b[0;34m.\u001b[0m\u001b[0many\u001b[0m\u001b[0;34m(\u001b[0m\u001b[0;34m)\u001b[0m\u001b[0;34m:\u001b[0m\u001b[0;34m\u001b[0m\u001b[0;34m\u001b[0m\u001b[0m\n\u001b[1;32m   5286\u001b[0m             \u001b[0;32mif\u001b[0m \u001b[0merrors\u001b[0m \u001b[0;34m!=\u001b[0m \u001b[0;34m\"ignore\"\u001b[0m\u001b[0;34m:\u001b[0m\u001b[0;34m\u001b[0m\u001b[0;34m\u001b[0m\u001b[0m\n\u001b[0;32m-> 5287\u001b[0;31m                 \u001b[0;32mraise\u001b[0m \u001b[0mKeyError\u001b[0m\u001b[0;34m(\u001b[0m\u001b[0;34mf\"{labels[mask]} not found in axis\"\u001b[0m\u001b[0;34m)\u001b[0m\u001b[0;34m\u001b[0m\u001b[0;34m\u001b[0m\u001b[0m\n\u001b[0m\u001b[1;32m   5288\u001b[0m             \u001b[0mindexer\u001b[0m \u001b[0;34m=\u001b[0m \u001b[0mindexer\u001b[0m\u001b[0;34m[\u001b[0m\u001b[0;34m~\u001b[0m\u001b[0mmask\u001b[0m\u001b[0;34m]\u001b[0m\u001b[0;34m\u001b[0m\u001b[0;34m\u001b[0m\u001b[0m\n\u001b[1;32m   5289\u001b[0m         \u001b[0;32mreturn\u001b[0m \u001b[0mself\u001b[0m\u001b[0;34m.\u001b[0m\u001b[0mdelete\u001b[0m\u001b[0;34m(\u001b[0m\u001b[0mindexer\u001b[0m\u001b[0;34m)\u001b[0m\u001b[0;34m\u001b[0m\u001b[0;34m\u001b[0m\u001b[0m\n",
            "\u001b[0;31mKeyError\u001b[0m: \"['item'] not found in axis\""
          ]
        }
      ]
    },
    {
      "cell_type": "code",
      "metadata": {
        "colab": {
          "base_uri": "https://localhost:8080/",
          "height": 234
        },
        "id": "HYe7zntp-fYy",
        "outputId": "f32b1f48-1050-45a2-a8d7-64f464849fcb"
      },
      "source": [
        "rated_movies_df.head()"
      ],
      "execution_count": 29,
      "outputs": [
        {
          "output_type": "execute_result",
          "data": {
            "text/html": [
              "<div>\n",
              "<style scoped>\n",
              "    .dataframe tbody tr th:only-of-type {\n",
              "        vertical-align: middle;\n",
              "    }\n",
              "\n",
              "    .dataframe tbody tr th {\n",
              "        vertical-align: top;\n",
              "    }\n",
              "\n",
              "    .dataframe thead th {\n",
              "        text-align: right;\n",
              "    }\n",
              "</style>\n",
              "<table border=\"1\" class=\"dataframe\">\n",
              "  <thead>\n",
              "    <tr style=\"text-align: right;\">\n",
              "      <th></th>\n",
              "      <th>title</th>\n",
              "      <th>genres</th>\n",
              "    </tr>\n",
              "    <tr>\n",
              "      <th>item</th>\n",
              "      <th></th>\n",
              "      <th></th>\n",
              "    </tr>\n",
              "  </thead>\n",
              "  <tbody>\n",
              "    <tr>\n",
              "      <th>1</th>\n",
              "      <td>Toy Story (1995)</td>\n",
              "      <td>Adventure|Animation|Children|Comedy|Fantasy</td>\n",
              "    </tr>\n",
              "    <tr>\n",
              "      <th>110</th>\n",
              "      <td>Braveheart (1995)</td>\n",
              "      <td>Action|Drama|War</td>\n",
              "    </tr>\n",
              "    <tr>\n",
              "      <th>260</th>\n",
              "      <td>Star Wars: Episode IV - A New Hope (1977)</td>\n",
              "      <td>Action|Adventure|Sci-Fi</td>\n",
              "    </tr>\n",
              "    <tr>\n",
              "      <th>364</th>\n",
              "      <td>Lion King, The (1994)</td>\n",
              "      <td>Adventure|Animation|Children|Drama|Musical|IMAX</td>\n",
              "    </tr>\n",
              "    <tr>\n",
              "      <th>527</th>\n",
              "      <td>Schindler's List (1993)</td>\n",
              "      <td>Drama|War</td>\n",
              "    </tr>\n",
              "  </tbody>\n",
              "</table>\n",
              "</div>"
            ],
            "text/plain": [
              "                                          title                                           genres\n",
              "item                                                                                            \n",
              "1                              Toy Story (1995)      Adventure|Animation|Children|Comedy|Fantasy\n",
              "110                           Braveheart (1995)                                 Action|Drama|War\n",
              "260   Star Wars: Episode IV - A New Hope (1977)                          Action|Adventure|Sci-Fi\n",
              "364                       Lion King, The (1994)  Adventure|Animation|Children|Drama|Musical|IMAX\n",
              "527                     Schindler's List (1993)                                        Drama|War"
            ]
          },
          "metadata": {},
          "execution_count": 29
        }
      ]
    },
    {
      "cell_type": "code",
      "metadata": {
        "id": "st8ItddipZNR",
        "colab": {
          "base_uri": "https://localhost:8080/",
          "height": 405
        },
        "outputId": "84a77b3a-9789-460c-aa18-68d0d4f46f78"
      },
      "source": [
        "\n",
        "rated_movies_df = rated_movies_df.join(selected_user_ratings.set_index('item')['rating'], on='item')\n",
        "print(\"Rated movies: \" + str(rated_movies_df.shape[0]))\n",
        "display(rated_movies_df.head(10))"
      ],
      "execution_count": 30,
      "outputs": [
        {
          "output_type": "stream",
          "name": "stdout",
          "text": [
            "Rated movies: 246\n"
          ]
        },
        {
          "output_type": "display_data",
          "data": {
            "text/html": [
              "<div>\n",
              "<style scoped>\n",
              "    .dataframe tbody tr th:only-of-type {\n",
              "        vertical-align: middle;\n",
              "    }\n",
              "\n",
              "    .dataframe tbody tr th {\n",
              "        vertical-align: top;\n",
              "    }\n",
              "\n",
              "    .dataframe thead th {\n",
              "        text-align: right;\n",
              "    }\n",
              "</style>\n",
              "<table border=\"1\" class=\"dataframe\">\n",
              "  <thead>\n",
              "    <tr style=\"text-align: right;\">\n",
              "      <th></th>\n",
              "      <th>title</th>\n",
              "      <th>genres</th>\n",
              "      <th>rating</th>\n",
              "    </tr>\n",
              "    <tr>\n",
              "      <th>item</th>\n",
              "      <th></th>\n",
              "      <th></th>\n",
              "      <th></th>\n",
              "    </tr>\n",
              "  </thead>\n",
              "  <tbody>\n",
              "    <tr>\n",
              "      <th>1</th>\n",
              "      <td>Toy Story (1995)</td>\n",
              "      <td>Adventure|Animation|Children|Comedy|Fantasy</td>\n",
              "      <td>3.0</td>\n",
              "    </tr>\n",
              "    <tr>\n",
              "      <th>110</th>\n",
              "      <td>Braveheart (1995)</td>\n",
              "      <td>Action|Drama|War</td>\n",
              "      <td>5.0</td>\n",
              "    </tr>\n",
              "    <tr>\n",
              "      <th>260</th>\n",
              "      <td>Star Wars: Episode IV - A New Hope (1977)</td>\n",
              "      <td>Action|Adventure|Sci-Fi</td>\n",
              "      <td>5.0</td>\n",
              "    </tr>\n",
              "    <tr>\n",
              "      <th>364</th>\n",
              "      <td>Lion King, The (1994)</td>\n",
              "      <td>Adventure|Animation|Children|Drama|Musical|IMAX</td>\n",
              "      <td>3.0</td>\n",
              "    </tr>\n",
              "    <tr>\n",
              "      <th>527</th>\n",
              "      <td>Schindler's List (1993)</td>\n",
              "      <td>Drama|War</td>\n",
              "      <td>0.5</td>\n",
              "    </tr>\n",
              "    <tr>\n",
              "      <th>588</th>\n",
              "      <td>Aladdin (1992)</td>\n",
              "      <td>Adventure|Animation|Children|Comedy|Musical</td>\n",
              "      <td>3.0</td>\n",
              "    </tr>\n",
              "    <tr>\n",
              "      <th>594</th>\n",
              "      <td>Snow White and the Seven Dwarfs (1937)</td>\n",
              "      <td>Animation|Children|Drama|Fantasy|Musical</td>\n",
              "      <td>2.5</td>\n",
              "    </tr>\n",
              "    <tr>\n",
              "      <th>616</th>\n",
              "      <td>Aristocats, The (1970)</td>\n",
              "      <td>Animation|Children</td>\n",
              "      <td>4.0</td>\n",
              "    </tr>\n",
              "    <tr>\n",
              "      <th>1196</th>\n",
              "      <td>Star Wars: Episode V - The Empire Strikes Back...</td>\n",
              "      <td>Action|Adventure|Sci-Fi</td>\n",
              "      <td>5.0</td>\n",
              "    </tr>\n",
              "    <tr>\n",
              "      <th>1197</th>\n",
              "      <td>Princess Bride, The (1987)</td>\n",
              "      <td>Action|Adventure|Comedy|Fantasy|Romance</td>\n",
              "      <td>3.0</td>\n",
              "    </tr>\n",
              "  </tbody>\n",
              "</table>\n",
              "</div>"
            ],
            "text/plain": [
              "                                                  title  ... rating\n",
              "item                                                     ...       \n",
              "1                                      Toy Story (1995)  ...    3.0\n",
              "110                                   Braveheart (1995)  ...    5.0\n",
              "260           Star Wars: Episode IV - A New Hope (1977)  ...    5.0\n",
              "364                               Lion King, The (1994)  ...    3.0\n",
              "527                             Schindler's List (1993)  ...    0.5\n",
              "588                                      Aladdin (1992)  ...    3.0\n",
              "594              Snow White and the Seven Dwarfs (1937)  ...    2.5\n",
              "616                              Aristocats, The (1970)  ...    4.0\n",
              "1196  Star Wars: Episode V - The Empire Strikes Back...  ...    5.0\n",
              "1197                         Princess Bride, The (1987)  ...    3.0\n",
              "\n",
              "[10 rows x 3 columns]"
            ]
          },
          "metadata": {}
        }
      ]
    },
    {
      "cell_type": "markdown",
      "metadata": {
        "id": "DZfLivzRpZNT"
      },
      "source": [
        "### Using words frequencies in plots like in the lab\n",
        "Possible improvements: lemmatization, removal of stopwords, etc, take a look at the library nltk\n",
        "\n",
        "We have no info on plots, we might have to do something about this! let´s try to get data on plots, else we can not use this method"
      ]
    },
    {
      "cell_type": "markdown",
      "metadata": {
        "id": "gwnHsCWLpZNj"
      },
      "source": [
        "Compute a feature representation for the movie's contents (TF-IDF)"
      ]
    },
    {
      "cell_type": "code",
      "metadata": {
        "id": "bf-De68mpZNk",
        "colab": {
          "base_uri": "https://localhost:8080/",
          "height": 195
        },
        "outputId": "2213b228-a1cd-4416-af73-3edb75629dc7"
      },
      "source": [
        "vectorizer = TfidfVectorizer()\n",
        "X = vectorizer.fit_transform(rated_movies_df['plot'])\n",
        "print(X.shape)"
      ],
      "execution_count": 31,
      "outputs": [
        {
          "output_type": "error",
          "ename": "NameError",
          "evalue": "ignored",
          "traceback": [
            "\u001b[0;31m---------------------------------------------------------------------------\u001b[0m",
            "\u001b[0;31mNameError\u001b[0m                                 Traceback (most recent call last)",
            "\u001b[0;32m<ipython-input-31-bb014d8c59d8>\u001b[0m in \u001b[0;36m<module>\u001b[0;34m()\u001b[0m\n\u001b[0;32m----> 1\u001b[0;31m \u001b[0mvectorizer\u001b[0m \u001b[0;34m=\u001b[0m \u001b[0mTfidfVectorizer\u001b[0m\u001b[0;34m(\u001b[0m\u001b[0;34m)\u001b[0m\u001b[0;34m\u001b[0m\u001b[0;34m\u001b[0m\u001b[0m\n\u001b[0m\u001b[1;32m      2\u001b[0m \u001b[0mX\u001b[0m \u001b[0;34m=\u001b[0m \u001b[0mvectorizer\u001b[0m\u001b[0;34m.\u001b[0m\u001b[0mfit_transform\u001b[0m\u001b[0;34m(\u001b[0m\u001b[0mrated_movies_df\u001b[0m\u001b[0;34m[\u001b[0m\u001b[0;34m'plot'\u001b[0m\u001b[0;34m]\u001b[0m\u001b[0;34m)\u001b[0m\u001b[0;34m\u001b[0m\u001b[0;34m\u001b[0m\u001b[0m\n\u001b[1;32m      3\u001b[0m \u001b[0mprint\u001b[0m\u001b[0;34m(\u001b[0m\u001b[0mX\u001b[0m\u001b[0;34m.\u001b[0m\u001b[0mshape\u001b[0m\u001b[0;34m)\u001b[0m\u001b[0;34m\u001b[0m\u001b[0;34m\u001b[0m\u001b[0m\n",
            "\u001b[0;31mNameError\u001b[0m: name 'TfidfVectorizer' is not defined"
          ]
        }
      ]
    },
    {
      "cell_type": "markdown",
      "metadata": {
        "id": "AdhLiwySpZNm"
      },
      "source": [
        "Train a regressor, computing of the predicted ratings for unrated movies, and recommending the movies with higher predicted ratings"
      ]
    },
    {
      "cell_type": "code",
      "metadata": {
        "id": "irWZ7ODWpZNm",
        "colab": {
          "base_uri": "https://localhost:8080/",
          "height": 212
        },
        "outputId": "713cedbf-ee64-4de4-e0de-b8971da0adf4"
      },
      "source": [
        "X_unrated = vectorizer.transform(unrated_movies_df['plot'])\n",
        "print(X_unrated.shape)\n",
        "y_unrated = neigh.predict(X_unrated)\n",
        "print(y_unrated.shape)"
      ],
      "execution_count": 32,
      "outputs": [
        {
          "output_type": "error",
          "ename": "NameError",
          "evalue": "ignored",
          "traceback": [
            "\u001b[0;31m---------------------------------------------------------------------------\u001b[0m",
            "\u001b[0;31mNameError\u001b[0m                                 Traceback (most recent call last)",
            "\u001b[0;32m<ipython-input-32-ff3ccbab48dd>\u001b[0m in \u001b[0;36m<module>\u001b[0;34m()\u001b[0m\n\u001b[0;32m----> 1\u001b[0;31m \u001b[0mX_unrated\u001b[0m \u001b[0;34m=\u001b[0m \u001b[0mvectorizer\u001b[0m\u001b[0;34m.\u001b[0m\u001b[0mtransform\u001b[0m\u001b[0;34m(\u001b[0m\u001b[0munrated_movies_df\u001b[0m\u001b[0;34m[\u001b[0m\u001b[0;34m'plot'\u001b[0m\u001b[0;34m]\u001b[0m\u001b[0;34m)\u001b[0m\u001b[0;34m\u001b[0m\u001b[0;34m\u001b[0m\u001b[0m\n\u001b[0m\u001b[1;32m      2\u001b[0m \u001b[0mprint\u001b[0m\u001b[0;34m(\u001b[0m\u001b[0mX_unrated\u001b[0m\u001b[0;34m.\u001b[0m\u001b[0mshape\u001b[0m\u001b[0;34m)\u001b[0m\u001b[0;34m\u001b[0m\u001b[0;34m\u001b[0m\u001b[0m\n\u001b[1;32m      3\u001b[0m \u001b[0my_unrated\u001b[0m \u001b[0;34m=\u001b[0m \u001b[0mneigh\u001b[0m\u001b[0;34m.\u001b[0m\u001b[0mpredict\u001b[0m\u001b[0;34m(\u001b[0m\u001b[0mX_unrated\u001b[0m\u001b[0;34m)\u001b[0m\u001b[0;34m\u001b[0m\u001b[0;34m\u001b[0m\u001b[0m\n\u001b[1;32m      4\u001b[0m \u001b[0mprint\u001b[0m\u001b[0;34m(\u001b[0m\u001b[0my_unrated\u001b[0m\u001b[0;34m.\u001b[0m\u001b[0mshape\u001b[0m\u001b[0;34m)\u001b[0m\u001b[0;34m\u001b[0m\u001b[0;34m\u001b[0m\u001b[0m\n",
            "\u001b[0;31mNameError\u001b[0m: name 'vectorizer' is not defined"
          ]
        }
      ]
    },
    {
      "cell_type": "markdown",
      "metadata": {
        "id": "LIDrV4gOpZNn"
      },
      "source": [
        "### Can we use tags ? (this was not in the lab)\n",
        "\n",
        "Besides the plots, we have tags for each movie out there. \n",
        "We need to inspect whether we have enough data to make a recommendation algorithm using it. \n",
        "We need to explore how sparse this data is, how many tags there are for each movie."
      ]
    },
    {
      "cell_type": "code",
      "metadata": {
        "id": "D-JBbLgKpZNp"
      },
      "source": [
        "tags_df = pd.read_csv(data_path+\"/tags.csv\", nrows=20000)\n",
        "tags_df.rename(columns={'userId': 'user',\n",
        "                   'movieId': 'item'},\n",
        "          inplace=True, errors='raise')"
      ],
      "execution_count": 33,
      "outputs": []
    },
    {
      "cell_type": "code",
      "metadata": {
        "id": "HqvlbjtdpZNp",
        "colab": {
          "base_uri": "https://localhost:8080/",
          "height": 203
        },
        "outputId": "6c27d5ea-a1e5-448f-d2d6-26e365d6593c"
      },
      "source": [
        "tags_df.head()"
      ],
      "execution_count": 35,
      "outputs": [
        {
          "output_type": "execute_result",
          "data": {
            "text/html": [
              "<div>\n",
              "<style scoped>\n",
              "    .dataframe tbody tr th:only-of-type {\n",
              "        vertical-align: middle;\n",
              "    }\n",
              "\n",
              "    .dataframe tbody tr th {\n",
              "        vertical-align: top;\n",
              "    }\n",
              "\n",
              "    .dataframe thead th {\n",
              "        text-align: right;\n",
              "    }\n",
              "</style>\n",
              "<table border=\"1\" class=\"dataframe\">\n",
              "  <thead>\n",
              "    <tr style=\"text-align: right;\">\n",
              "      <th></th>\n",
              "      <th>user</th>\n",
              "      <th>item</th>\n",
              "      <th>tag</th>\n",
              "      <th>timestamp</th>\n",
              "    </tr>\n",
              "  </thead>\n",
              "  <tbody>\n",
              "    <tr>\n",
              "      <th>0</th>\n",
              "      <td>18</td>\n",
              "      <td>4141</td>\n",
              "      <td>Mark Waters</td>\n",
              "      <td>1240597180</td>\n",
              "    </tr>\n",
              "    <tr>\n",
              "      <th>1</th>\n",
              "      <td>65</td>\n",
              "      <td>208</td>\n",
              "      <td>dark hero</td>\n",
              "      <td>1368150078</td>\n",
              "    </tr>\n",
              "    <tr>\n",
              "      <th>2</th>\n",
              "      <td>65</td>\n",
              "      <td>353</td>\n",
              "      <td>dark hero</td>\n",
              "      <td>1368150079</td>\n",
              "    </tr>\n",
              "    <tr>\n",
              "      <th>3</th>\n",
              "      <td>65</td>\n",
              "      <td>521</td>\n",
              "      <td>noir thriller</td>\n",
              "      <td>1368149983</td>\n",
              "    </tr>\n",
              "    <tr>\n",
              "      <th>4</th>\n",
              "      <td>65</td>\n",
              "      <td>592</td>\n",
              "      <td>dark hero</td>\n",
              "      <td>1368150078</td>\n",
              "    </tr>\n",
              "  </tbody>\n",
              "</table>\n",
              "</div>"
            ],
            "text/plain": [
              "   user  item            tag   timestamp\n",
              "0    18  4141    Mark Waters  1240597180\n",
              "1    65   208      dark hero  1368150078\n",
              "2    65   353      dark hero  1368150079\n",
              "3    65   521  noir thriller  1368149983\n",
              "4    65   592      dark hero  1368150078"
            ]
          },
          "metadata": {},
          "execution_count": 35
        }
      ]
    },
    {
      "cell_type": "markdown",
      "metadata": {
        "id": "4k-0qvw2pZNr"
      },
      "source": [
        "Let´s see how many tags are in our dataset"
      ]
    },
    {
      "cell_type": "code",
      "metadata": {
        "id": "Y6Ifzm0spZNs",
        "colab": {
          "base_uri": "https://localhost:8080/"
        },
        "outputId": "0853c626-4ffa-4883-ef9b-bc929138a24a"
      },
      "source": [
        "print(len(tags_df['tag'].unique()))"
      ],
      "execution_count": 36,
      "outputs": [
        {
          "output_type": "stream",
          "name": "stdout",
          "text": [
            "5822\n"
          ]
        }
      ]
    },
    {
      "cell_type": "markdown",
      "metadata": {
        "id": "iY-REf-YpZNt"
      },
      "source": [
        "Ok, so we know some tags have been assigned to more than one movie, let´s compute the sparsity of the tag feature.\n",
        "We compute how many times a tag has been assigned to any item.\n",
        "We again see that we have a long tail-shor tail structure"
      ]
    },
    {
      "cell_type": "code",
      "metadata": {
        "id": "JaArAaH0pZNu",
        "colab": {
          "base_uri": "https://localhost:8080/",
          "height": 585
        },
        "outputId": "5cc03528-9e72-479d-9663-9616973c3b06"
      },
      "source": [
        "tags_df['item']= tags_df.index\n",
        "count_items_per_tag_df = tags_df[['tag','item']].groupby(['tag']).count()\n",
        "print('Mean:', count_items_per_tag_df.mean())\n",
        "print('Variance: ', count_items_per_tag_df.var())\n",
        "count_items_per_tag_df = count_items_per_tag_df.sort_values(by=\"item\", ascending=False).reset_index()\n",
        "print(count_items_per_tag_df.head())\n",
        "#print(list(count_tags_df.index))\n",
        "display(count_items_per_tag_df)\n",
        "#sns.displot(data=count_items_per_tag_df, x=list(count_items_per_tag_df.index), y='item')"
      ],
      "execution_count": 82,
      "outputs": [
        {
          "output_type": "stream",
          "name": "stdout",
          "text": [
            "Mean: item    3.454828\n",
            "dtype: float64\n",
            "Variance:  item    126.043096\n",
            "dtype: float64\n",
            "                 tag  item\n",
            "0  adapted from:book   510\n",
            "1             murder   278\n",
            "2            Watched   160\n",
            "3            netflix   148\n",
            "4             sci-fi   145\n"
          ]
        },
        {
          "output_type": "display_data",
          "data": {
            "text/html": [
              "<div>\n",
              "<style scoped>\n",
              "    .dataframe tbody tr th:only-of-type {\n",
              "        vertical-align: middle;\n",
              "    }\n",
              "\n",
              "    .dataframe tbody tr th {\n",
              "        vertical-align: top;\n",
              "    }\n",
              "\n",
              "    .dataframe thead th {\n",
              "        text-align: right;\n",
              "    }\n",
              "</style>\n",
              "<table border=\"1\" class=\"dataframe\">\n",
              "  <thead>\n",
              "    <tr style=\"text-align: right;\">\n",
              "      <th></th>\n",
              "      <th>tag</th>\n",
              "      <th>item</th>\n",
              "    </tr>\n",
              "  </thead>\n",
              "  <tbody>\n",
              "    <tr>\n",
              "      <th>0</th>\n",
              "      <td>adapted from:book</td>\n",
              "      <td>510</td>\n",
              "    </tr>\n",
              "    <tr>\n",
              "      <th>1</th>\n",
              "      <td>murder</td>\n",
              "      <td>278</td>\n",
              "    </tr>\n",
              "    <tr>\n",
              "      <th>2</th>\n",
              "      <td>Watched</td>\n",
              "      <td>160</td>\n",
              "    </tr>\n",
              "    <tr>\n",
              "      <th>3</th>\n",
              "      <td>netflix</td>\n",
              "      <td>148</td>\n",
              "    </tr>\n",
              "    <tr>\n",
              "      <th>4</th>\n",
              "      <td>sci-fi</td>\n",
              "      <td>145</td>\n",
              "    </tr>\n",
              "    <tr>\n",
              "      <th>...</th>\n",
              "      <td>...</td>\n",
              "      <td>...</td>\n",
              "    </tr>\n",
              "    <tr>\n",
              "      <th>5784</th>\n",
              "      <td>australian</td>\n",
              "      <td>1</td>\n",
              "    </tr>\n",
              "    <tr>\n",
              "      <th>5785</th>\n",
              "      <td>authenticity</td>\n",
              "      <td>1</td>\n",
              "    </tr>\n",
              "    <tr>\n",
              "      <th>5786</th>\n",
              "      <td>author hates adaptation</td>\n",
              "      <td>1</td>\n",
              "    </tr>\n",
              "    <tr>\n",
              "      <th>5787</th>\n",
              "      <td>author: Edgar Rice Burroughs</td>\n",
              "      <td>1</td>\n",
              "    </tr>\n",
              "    <tr>\n",
              "      <th>5788</th>\n",
              "      <td>religion:Elvis</td>\n",
              "      <td>1</td>\n",
              "    </tr>\n",
              "  </tbody>\n",
              "</table>\n",
              "<p>5789 rows × 2 columns</p>\n",
              "</div>"
            ],
            "text/plain": [
              "                               tag  item\n",
              "0                adapted from:book   510\n",
              "1                           murder   278\n",
              "2                          Watched   160\n",
              "3                          netflix   148\n",
              "4                           sci-fi   145\n",
              "...                            ...   ...\n",
              "5784                    australian     1\n",
              "5785                  authenticity     1\n",
              "5786       author hates adaptation     1\n",
              "5787  author: Edgar Rice Burroughs     1\n",
              "5788                religion:Elvis     1\n",
              "\n",
              "[5789 rows x 2 columns]"
            ]
          },
          "metadata": {}
        }
      ]
    },
    {
      "cell_type": "markdown",
      "metadata": {
        "id": "hvJmIQjYpZNw"
      },
      "source": [
        "We inspect how many tags each movie has"
      ]
    },
    {
      "cell_type": "code",
      "metadata": {
        "id": "22oi9gX8pZNx",
        "colab": {
          "base_uri": "https://localhost:8080/",
          "height": 585
        },
        "outputId": "8f93a701-46ef-4998-c4cf-d24c9b34af45"
      },
      "source": [
        "tags_df['item']= tags_df.index\n",
        "count_tags_per_movie_df = tags_df[['tag','item']].groupby(['item']).count()\n",
        "print('Mean:', count_tags_per_movie_df.mean())\n",
        "print('Variance: ', count_tags_per_movie_df.var())\n",
        "count_tags_per_movie_df = count_tags_per_movie_df.sort_values(by=\"tag\", ascending=False).reset_index()\n",
        "print(count_tags_per_movie_df.head())\n",
        "#print(list(count_tags_df.index))\n",
        "display(count_tags_per_movie_df)\n",
        "#sns.displot(data=count_tags_df, x=list(count_tags_per_movie_df.index), y='tag')"
      ],
      "execution_count": 48,
      "outputs": [
        {
          "output_type": "stream",
          "name": "stdout",
          "text": [
            "Mean: tag    1.0\n",
            "dtype: float64\n",
            "Variance:  tag    0.0\n",
            "dtype: float64\n",
            "    item  tag\n",
            "0      0    1\n",
            "1  13330    1\n",
            "2  13337    1\n",
            "3  13336    1\n",
            "4  13335    1\n"
          ]
        },
        {
          "output_type": "display_data",
          "data": {
            "text/html": [
              "<div>\n",
              "<style scoped>\n",
              "    .dataframe tbody tr th:only-of-type {\n",
              "        vertical-align: middle;\n",
              "    }\n",
              "\n",
              "    .dataframe tbody tr th {\n",
              "        vertical-align: top;\n",
              "    }\n",
              "\n",
              "    .dataframe thead th {\n",
              "        text-align: right;\n",
              "    }\n",
              "</style>\n",
              "<table border=\"1\" class=\"dataframe\">\n",
              "  <thead>\n",
              "    <tr style=\"text-align: right;\">\n",
              "      <th></th>\n",
              "      <th>item</th>\n",
              "      <th>tag</th>\n",
              "    </tr>\n",
              "  </thead>\n",
              "  <tbody>\n",
              "    <tr>\n",
              "      <th>0</th>\n",
              "      <td>0</td>\n",
              "      <td>1</td>\n",
              "    </tr>\n",
              "    <tr>\n",
              "      <th>1</th>\n",
              "      <td>13330</td>\n",
              "      <td>1</td>\n",
              "    </tr>\n",
              "    <tr>\n",
              "      <th>2</th>\n",
              "      <td>13337</td>\n",
              "      <td>1</td>\n",
              "    </tr>\n",
              "    <tr>\n",
              "      <th>3</th>\n",
              "      <td>13336</td>\n",
              "      <td>1</td>\n",
              "    </tr>\n",
              "    <tr>\n",
              "      <th>4</th>\n",
              "      <td>13335</td>\n",
              "      <td>1</td>\n",
              "    </tr>\n",
              "    <tr>\n",
              "      <th>...</th>\n",
              "      <td>...</td>\n",
              "      <td>...</td>\n",
              "    </tr>\n",
              "    <tr>\n",
              "      <th>19995</th>\n",
              "      <td>6666</td>\n",
              "      <td>1</td>\n",
              "    </tr>\n",
              "    <tr>\n",
              "      <th>19996</th>\n",
              "      <td>6665</td>\n",
              "      <td>1</td>\n",
              "    </tr>\n",
              "    <tr>\n",
              "      <th>19997</th>\n",
              "      <td>6664</td>\n",
              "      <td>1</td>\n",
              "    </tr>\n",
              "    <tr>\n",
              "      <th>19998</th>\n",
              "      <td>6663</td>\n",
              "      <td>1</td>\n",
              "    </tr>\n",
              "    <tr>\n",
              "      <th>19999</th>\n",
              "      <td>19999</td>\n",
              "      <td>1</td>\n",
              "    </tr>\n",
              "  </tbody>\n",
              "</table>\n",
              "<p>20000 rows × 2 columns</p>\n",
              "</div>"
            ],
            "text/plain": [
              "        item  tag\n",
              "0          0    1\n",
              "1      13330    1\n",
              "2      13337    1\n",
              "3      13336    1\n",
              "4      13335    1\n",
              "...      ...  ...\n",
              "19995   6666    1\n",
              "19996   6665    1\n",
              "19997   6664    1\n",
              "19998   6663    1\n",
              "19999  19999    1\n",
              "\n",
              "[20000 rows x 2 columns]"
            ]
          },
          "metadata": {}
        }
      ]
    },
    {
      "cell_type": "markdown",
      "metadata": {
        "id": "w-9gcLVnEaaQ"
      },
      "source": [
        "So there is only one tag per movie! That is worth mentioning for sure!"
      ]
    },
    {
      "cell_type": "markdown",
      "metadata": {
        "id": "yTKu3J7yBGre"
      },
      "source": [
        "### Tags preproccessing\n",
        "We will do two things before running our algorithm#\n",
        "\n",
        "1.   Grouping tags that have a very similar meaning\n",
        "2.   Removing tags that are in only one movie\n",
        "\n"
      ]
    },
    {
      "cell_type": "code",
      "metadata": {
        "colab": {
          "base_uri": "https://localhost:8080/",
          "height": 321
        },
        "id": "MM7sd0uSEsg7",
        "outputId": "27fa2d07-0c41-40fd-f783-5361e4f12dec"
      },
      "source": [
        "#tags_desc= pd.read_csv(data_path+'/genome-tags.csv')\n",
        "#tags_desc.rename(columns={'tag': 'tag_txt', 'tagId': 'tag'},\n",
        "#          inplace=True, errors='raise')\n",
        "#print(tags_desc.head())\n",
        "#tags_df = tags_df.join(tags_desc, on='tag')\n",
        "import numpy as np\n",
        "print(tags_df.head())\n",
        "lengths = np.mean(  [len(tag.split(' ')) for tag in list(tags_df['tag'].unique()) ])\n",
        "print('avg number of words per tag: ', lengths)\n",
        "tags_df.head()"
      ],
      "execution_count": 66,
      "outputs": [
        {
          "output_type": "stream",
          "name": "stdout",
          "text": [
            "   user  item            tag   timestamp\n",
            "0    18     0    Mark Waters  1240597180\n",
            "1    65     1      dark hero  1368150078\n",
            "2    65     2      dark hero  1368150079\n",
            "3    65     3  noir thriller  1368149983\n",
            "4    65     4      dark hero  1368150078\n",
            "2.2990381312263826\n"
          ]
        },
        {
          "output_type": "execute_result",
          "data": {
            "text/html": [
              "<div>\n",
              "<style scoped>\n",
              "    .dataframe tbody tr th:only-of-type {\n",
              "        vertical-align: middle;\n",
              "    }\n",
              "\n",
              "    .dataframe tbody tr th {\n",
              "        vertical-align: top;\n",
              "    }\n",
              "\n",
              "    .dataframe thead th {\n",
              "        text-align: right;\n",
              "    }\n",
              "</style>\n",
              "<table border=\"1\" class=\"dataframe\">\n",
              "  <thead>\n",
              "    <tr style=\"text-align: right;\">\n",
              "      <th></th>\n",
              "      <th>user</th>\n",
              "      <th>item</th>\n",
              "      <th>tag</th>\n",
              "      <th>timestamp</th>\n",
              "    </tr>\n",
              "  </thead>\n",
              "  <tbody>\n",
              "    <tr>\n",
              "      <th>0</th>\n",
              "      <td>18</td>\n",
              "      <td>0</td>\n",
              "      <td>Mark Waters</td>\n",
              "      <td>1240597180</td>\n",
              "    </tr>\n",
              "    <tr>\n",
              "      <th>1</th>\n",
              "      <td>65</td>\n",
              "      <td>1</td>\n",
              "      <td>dark hero</td>\n",
              "      <td>1368150078</td>\n",
              "    </tr>\n",
              "    <tr>\n",
              "      <th>2</th>\n",
              "      <td>65</td>\n",
              "      <td>2</td>\n",
              "      <td>dark hero</td>\n",
              "      <td>1368150079</td>\n",
              "    </tr>\n",
              "    <tr>\n",
              "      <th>3</th>\n",
              "      <td>65</td>\n",
              "      <td>3</td>\n",
              "      <td>noir thriller</td>\n",
              "      <td>1368149983</td>\n",
              "    </tr>\n",
              "    <tr>\n",
              "      <th>4</th>\n",
              "      <td>65</td>\n",
              "      <td>4</td>\n",
              "      <td>dark hero</td>\n",
              "      <td>1368150078</td>\n",
              "    </tr>\n",
              "  </tbody>\n",
              "</table>\n",
              "</div>"
            ],
            "text/plain": [
              "   user  item            tag   timestamp\n",
              "0    18     0    Mark Waters  1240597180\n",
              "1    65     1      dark hero  1368150078\n",
              "2    65     2      dark hero  1368150079\n",
              "3    65     3  noir thriller  1368149983\n",
              "4    65     4      dark hero  1368150078"
            ]
          },
          "metadata": {},
          "execution_count": 66
        }
      ]
    },
    {
      "cell_type": "markdown",
      "metadata": {
        "id": "T6F5pVAnLnXD"
      },
      "source": [
        "Load word embeddings to compute similarity betwen tags"
      ]
    },
    {
      "cell_type": "code",
      "metadata": {
        "id": "g0teipTkLxHp"
      },
      "source": [
        ""
      ],
      "execution_count": null,
      "outputs": []
    },
    {
      "cell_type": "markdown",
      "metadata": {
        "id": "xw3tMJgPNfDa"
      },
      "source": [
        "Let´s apply lemmatization to all our tags"
      ]
    },
    {
      "cell_type": "code",
      "metadata": {
        "colab": {
          "base_uri": "https://localhost:8080/"
        },
        "id": "NbEAo5NXNeK6",
        "outputId": "3f89166d-ba13-4892-f10a-c79581815a2b"
      },
      "source": [
        "from nltk.stem import WordNetLemmatizer\n",
        "import nltk\n",
        "nltk.download('wordnet')\n",
        "\n",
        "lemmatizer = WordNetLemmatizer()\n",
        "lemmatized_tags= [lemmatizer.lemmatize(tag) for tag in list(tags_df['tag'].unique()) ]\n",
        "print('nr tags before lemmatizing: ', len(list(tags_df['tag'].unique())))\n",
        "print('nr tags after lemmatizing: ', len(set(lemmatized_tags)))\n",
        "\n",
        "#Lemmatizing reduces redundancy in our data so let´s indeed use it!\n",
        "tags_df['tag']= tags_df['tag'].apply(lambda  x: lemmatizer.lemmatize(x))\n"
      ],
      "execution_count": 75,
      "outputs": [
        {
          "output_type": "stream",
          "name": "stdout",
          "text": [
            "[nltk_data] Downloading package wordnet to /root/nltk_data...\n",
            "[nltk_data]   Package wordnet is already up-to-date!\n",
            "nr tags before lemmatizing:  5822\n",
            "nr tags after lemmatizing:  5789\n"
          ]
        }
      ]
    },
    {
      "cell_type": "markdown",
      "metadata": {
        "id": "_OROqz4pQJxQ"
      },
      "source": [
        "The next thing we need to do is to get all movies which have a tag that has only been used for that particular movie. The movies that have a tag which is only used for them will be excluded of our RS. This is surely a drawback of this approach as we are missing data in many positions.(Possible improvement in the future is this)"
      ]
    },
    {
      "cell_type": "code",
      "metadata": {
        "colab": {
          "base_uri": "https://localhost:8080/"
        },
        "id": "aLL7ikcGQEOJ",
        "outputId": "728bed51-2f06-421a-9855-529ab23f0732"
      },
      "source": [
        "count_items_per_tag_df = tags_df[['tag','item']].groupby(['tag']).count() #we need to do it again as the df has changed after lemmatization\n",
        "tags_relevant = count_items_per_tag_df[count_items_per_tag_df['item']>1]\n",
        "movies_relevant = tags_df[tags_df['tag'].isin( list(tags_relevant.index))]['item']\n",
        "#print(movies_relevant.head())\n",
        "print(movies_relevant.shape)\n",
        "print(tags_df.shape)\n",
        "#\n"
      ],
      "execution_count": 91,
      "outputs": [
        {
          "output_type": "stream",
          "name": "stdout",
          "text": [
            "(16492,)\n",
            "(20000, 4)\n"
          ]
        }
      ]
    },
    {
      "cell_type": "markdown",
      "metadata": {
        "id": "upevIjJcUCzP"
      },
      "source": [
        "Now we will build our recommendation algorithm"
      ]
    },
    {
      "cell_type": "code",
      "metadata": {
        "id": "nXlxcz_VULYx"
      },
      "source": [
        ""
      ],
      "execution_count": null,
      "outputs": []
    },
    {
      "cell_type": "markdown",
      "metadata": {
        "id": "mVNp4cq_sUp8"
      },
      "source": [
        "# Aggregation algorithms for groups of users"
      ]
    },
    {
      "cell_type": "markdown",
      "metadata": {
        "id": "cFq-Pr47ub-a"
      },
      "source": [
        "Summary:\n",
        "\n",
        "**Selection of a group in our dataset**\n",
        "We will select different groups.\n",
        " \n",
        "\n",
        "1.   A random group of 2 users\n",
        "2.   A random group of 5 users\n",
        "\n",
        "Then for our algorithms we will assume the group of 2 people represents a couple that have been together for a long time.\n",
        "\n",
        "We will also assume that the group of 5 people represents \n",
        "\n",
        "*   A group of friends\n",
        "*   A weak relationship group\n",
        "*   A family with 2 parents and 3 kids\n",
        "\n",
        "If we had data on demographics we could train our models in such situations, since we do not.\n",
        "\n",
        "We will try differnet aggregations strategies depending on what our groups represent\n",
        "\n",
        "The groups will be selected randomly.\n",
        "\n",
        "\n",
        "\n",
        "\n",
        "**Aggregation Strategies for Group Recommenders:**\n",
        "\n",
        "The aggregations strategies will be different for each of the groups. We will follow the work of 'Gartrell 2010', he proposes to use different aggregation strategies for different groups in terms of internal strength.\n",
        "\n",
        "\n",
        "1.   Close relationship-> most pleasure\n",
        "2.   weak relationships groups-> Least Misery\n",
        "3.   average group of friends -> average (consensus based) \n",
        "4.   Family-> weighted average (prioritizes children opinion while it gives lower weights to adults)\n",
        "\n",
        "\n",
        "\n",
        "We will study how each different approach behaves for each type of aggregation. \n",
        "Then we will motivate why each slgorithm should be better in each case\n",
        "\n",
        "**Explanations for Group Recommenders **\n",
        "We will also provide explanations for our recommendations.\n",
        "\n",
        "It is worth mentioning that instead of the average aggregation strategy, multiplicative aggregation strategy could have been chosen. However it was not chosen due to the fact that users like short and simple explanations. The user would more easily understand the average strategy than the multiplicative strategy. Helping users understand our choice will build their trust in the system, which is something we would like to achieve\n"
      ]
    },
    {
      "cell_type": "code",
      "metadata": {
        "id": "NyBOfs1xsdaa"
      },
      "source": [
        ""
      ],
      "execution_count": null,
      "outputs": []
    },
    {
      "cell_type": "markdown",
      "metadata": {
        "id": "obIsqC1Ovrar"
      },
      "source": [
        "### Selecting users: Random group\n",
        "For simplicity we limit ourselves to selecting users that have more than 200 movies rated.\n",
        "\n",
        "As explained above we will select a group of two users that represents a couple on a relationship"
      ]
    },
    {
      "cell_type": "code",
      "metadata": {
        "id": "h_rW37M4v_V4"
      },
      "source": [
        "users_ratings = ratings_df.groupby(['user']).count()\n",
        "selected = users_ratings['rating'] > 200\n",
        "selected_users = users_ratings.loc[selected]\n",
        "random_selected = selected_users.sample(n=2) # sample() returns now n random rows from the dataframe. The returned object is a dataframe with five rows. \n",
        "select_column_df = random_selected.reset_index()['user'] # reset_index() create a new index, and the userId became a column. Then, we can filter using the column name\n",
        "group_2_users = list(select_column_df) # iloc select by index, since our dataframe only has one row we read it from the index 0\n",
        "print(group_users)"
      ],
      "execution_count": null,
      "outputs": []
    },
    {
      "cell_type": "markdown",
      "metadata": {
        "id": "04kgwHGsfFX3"
      },
      "source": [
        "Now we also select a random group of 5 users that could represent both a group of friends or a weak relationship group"
      ]
    },
    {
      "cell_type": "code",
      "metadata": {
        "id": "nFS06bCEfD3A"
      },
      "source": [
        "random_selected = selected_users.sample(n=5) # sample() returns now n random rows from the dataframe. The returned object is a dataframe with five rows. \n",
        "select_column_df = random_selected.reset_index()['user'] # reset_index() create a new index, and the userId became a column. Then, we can filter using the column name\n",
        "group_5_users = list(select_column_df) # iloc select by index, since our dataframe only has one row we read it from the index 0\n",
        "print(group_5_users)"
      ],
      "execution_count": null,
      "outputs": []
    },
    {
      "cell_type": "markdown",
      "metadata": {
        "id": "bhOuqoxBwNXa"
      },
      "source": [
        "Let us assume we want to recommend to both groups a list of 10 movies that nobody in the group has seen yet. We first need to determine the list of possible candidates. For simplicity, we will only consider movies for which we more then 10 evaluations\n"
      ]
    },
    {
      "cell_type": "code",
      "metadata": {
        "id": "BRPQQ6vXwUiI"
      },
      "source": [
        "group_ratings = ratings_df.loc[ratings_df['user'].isin(group_2_users)]\n",
        "all_movies = set(movies_df.index.tolist())\n",
        "num_ratings_df = ratings_df.groupby(['item']).count()\n",
        "considered_movies = set(num_ratings_df.loc[num_ratings_df['user'] > 10].reset_index()['item'])\n",
        "\n",
        "group_seen_movies = set(group_ratings['item'].tolist())\n",
        "group_unseen_movies = considered_movies - group_seen_movies\n",
        "\n",
        "print(len(all_movies))\n",
        "print(len(considered_movies))\n",
        "print(len(group_seen_movies))\n",
        "print(len(group_unseen_movies))"
      ],
      "execution_count": null,
      "outputs": []
    },
    {
      "cell_type": "markdown",
      "metadata": {
        "id": "1oRA8iy5sjSo"
      },
      "source": [
        ""
      ]
    },
    {
      "cell_type": "code",
      "metadata": {
        "id": "xc8Kj_5QsifQ"
      },
      "source": [
        ""
      ],
      "execution_count": null,
      "outputs": []
    },
    {
      "cell_type": "markdown",
      "metadata": {
        "id": "IiMQVUbbwtjm"
      },
      "source": [
        "Now, we need to evaluate individuals' preverences for the unseen movies. To do so, we use the Lenskit library. We will use  CF recommender used in the previous example, (user collaborative filter).  To generate the Dataframe with user-item pairs to pass as input in the predict function, we use the product method of the itertools library, which takes as imput two lists and returns all the possible combinations between elements of the two lists. This is passed as input for the Dataframe constructor, which will then generate a Dataframe containing a pair on each row."
      ]
    },
    {
      "cell_type": "code",
      "metadata": {
        "id": "BDdopGRBw1uG"
      },
      "source": [
        "user_user = UserUser(15, min_nbrs=3)  # Minimum (3) and maximum (15) number of neighbors to consider\n",
        "recsys = Recommender.adapt(user_user)\n",
        "recsys.fit(ratings_df)\n",
        "group_unseen_df = pd.DataFrame(list(itertools.product(group_2_users, group_unseen_movies)), columns=['user', 'item'])\n",
        "group_unseen_df['predicted_rating'] = recsys.predict(group_unseen_df)\n",
        "display(group_unseen_df)"
      ],
      "execution_count": null,
      "outputs": []
    },
    {
      "cell_type": "markdown",
      "metadata": {
        "id": "RRftc1N3w4-J"
      },
      "source": [
        "### Aggregation Strategies for Group Recommenders"
      ]
    },
    {
      "cell_type": "markdown",
      "metadata": {
        "id": "roR9MVkTxG9G"
      },
      "source": [
        "As mentioned before, the aggregation strategies will depend on the group that is using the system.\n",
        "\n",
        "**For the group of 2 users, which is a couple in love, we will use the least most pleasure aggregation strategy**"
      ]
    },
    {
      "cell_type": "markdown",
      "metadata": {
        "id": "_4BC33izhyaC"
      },
      "source": [
        "**Most pleasure strategy**\n",
        "The Most Pleasure strategy considers as group rating the maximum of all the individuals ratings. Then, the recommended items are the one scoring the best with such group rating. Again, We can easily implement it grouping our group_unseen_df Dataframe by item, and then computing the max.\n"
      ]
    },
    {
      "cell_type": "code",
      "metadata": {
        "id": "BEAZy4K7hgnd"
      },
      "source": [
        "most_pleasure_df = group_unseen_df.groupby('item').max()\n",
        "most_pleasure_df = most_pleasure_df.join(movies_df['title'], on='item')\n",
        "most_pleasure_df = most_pleasure_df.sort_values(by=\"predicted_rating\", ascending=False).reset_index()[['item', 'title', 'predicted_rating']]\n",
        "display(most_pleasure_df.head(10))"
      ],
      "execution_count": null,
      "outputs": []
    },
    {
      "cell_type": "markdown",
      "metadata": {
        "id": "xq1WkaO6ifqL"
      },
      "source": [
        "**For the group of 5 users, representing a weak relationship type, we will use the least misery strategy.**\n",
        "\n",
        "**Least Misery strategy**\n",
        "The Least Misery strategy considers as group rating the minimum of all the individuals ratings. Then, the recommended items are the one scoring the best with such group rating. As we did before, we can implement it grouping our group_unseen_df Dataframe by item, and then computing the min"
      ]
    },
    {
      "cell_type": "code",
      "metadata": {
        "id": "o0DtbJjpjKCy"
      },
      "source": [
        "# least misery\n",
        "\n",
        "least_misery_df = group_unseen_df.groupby('item').min()\n",
        "least_misery_df = least_misery_df.join(movies_df['title'], on='item')\n",
        "least_misery_df = least_misery_df.sort_values(by=\"predicted_rating\", ascending=False).reset_index()[['item', 'title', 'predicted_rating']]\n",
        "display(least_misery_df.head(10))"
      ],
      "execution_count": null,
      "outputs": []
    },
    {
      "cell_type": "markdown",
      "metadata": {
        "id": "W7xNTniEjURD"
      },
      "source": [
        "**For the group of 5 users, representing a group of friends, we will use the average strategy.**\n",
        "\n",
        "**Average strategy**\n",
        "The Average strategy rates every item using the average of the ratings of each user for that movie"
      ]
    },
    {
      "cell_type": "code",
      "metadata": {
        "id": "DcpdgPd_kHUC"
      },
      "source": [
        "avg_df = group_unseen_df.groupby('item').min()\n",
        "avg_df = least_misery_df.join(movies_df['title'], on='item')\n",
        "avg_df = least_misery_df.sort_values(by=\"predicted_rating\", ascending=False).reset_index()[['item', 'title', 'predicted_rating']]\n",
        "display(avg_df.head(10))"
      ],
      "execution_count": null,
      "outputs": []
    },
    {
      "cell_type": "markdown",
      "metadata": {
        "id": "u3FmVZOklA-j"
      },
      "source": [
        "**Explanations for Group Recommenders**\n",
        " For the Least Misery and Most Pleasure strategies we will use use social-choice based explanations as defined in Barile et al., 2021.\n",
        " For the average explanation we will use a generic formulation.\n",
        "\n",
        "**Least Misery:** \"i_k has been recommended to the group since no group members has a real problem with it.\"\n",
        "\n",
        "**Most Pleasure:** \"i_k has been recommended to the group since it achieves the highest of all individual group members.\"\n",
        "\n",
        "**Average:** \"i_k has been recommended to the group since it achieves the highest average rating out of all other items\".\n",
        "\n",
        "\n"
      ]
    },
    {
      "cell_type": "code",
      "metadata": {
        "id": "FhfmS8HxooKw"
      },
      "source": [
        "explanations = {\n",
        "    \"AVG\" : \"<item> has been recommended to the group since it achieves the highest total average rating.\\n\",\n",
        "    \"LMS\" : \"<item> has been recommended to the group since no group members has a real problem with it.\\n\",\n",
        "    \"MPL\" : \"<item> has been recommended to the group since it achieves the highest of all individual group members.\\n\",\n",
        "}\n",
        "\n",
        "# Present explanations for the first item of each strategy\n",
        "movie_title = least_misery_df['title'].iloc[0]\n",
        "print(\"Recommendation: \" + movie_title.title())\n",
        "print(explanations[\"LMS\"].replace(\"<item>\", \"The movie \\\"\" + movie_title.title() + \"\\\"\"))\n",
        "\n",
        "movie_title = most_pleasure_df['title'].iloc[0]\n",
        "print(\"Recommendation: \" + movie_title.title())\n",
        "print(explanations[\"MPL\"].replace(\"<item>\", \"The movie \\\"\" + movie_title.title() + \"\\\"\"))\n",
        "\n",
        "movie_title = avg_df['title'].iloc[0]\n",
        "print(\"Recommendation: \" + movie_title.title())\n",
        "print(explanations[\"AVG\"].replace(\"<item>\", \"The movie \\\"\" + movie_title.title() + \"\\\"\"))\n",
        "\n"
      ],
      "execution_count": null,
      "outputs": []
    },
    {
      "cell_type": "markdown",
      "metadata": {
        "id": "l8AjlQI4zCBq"
      },
      "source": [
        " **EVALUATING GROUP RS**\n",
        "\n",
        "\n",
        "*   Error metric:\n",
        "*   Coverage:\n",
        "\n"
      ]
    },
    {
      "cell_type": "code",
      "metadata": {
        "id": "p4SNnombpgn8"
      },
      "source": [
        ""
      ],
      "execution_count": null,
      "outputs": []
    }
  ]
}